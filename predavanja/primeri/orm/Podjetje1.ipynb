{
 "cells": [
  {
   "cell_type": "markdown",
   "metadata": {},
   "source": [
    "# Podjetje, varianta 1"
   ]
  },
  {
   "cell_type": "code",
   "execution_count": null,
   "metadata": {},
   "outputs": [],
   "source": [
    "from sqlalchemy import Column, DateTime, String, Integer, ForeignKey, func, select, create_engine\n",
    "from sqlalchemy.orm import declarative_base, relationship, backref, sessionmaker\n",
    "from datetime import datetime"
   ]
  },
  {
   "cell_type": "code",
   "execution_count": null,
   "metadata": {},
   "outputs": [],
   "source": [
    "Base = declarative_base()\n",
    "\n",
    "\n",
    "class Oddelek(Base):\n",
    "    __tablename__ = 'oddelek'\n",
    "\n",
    "    id = Column(Integer, primary_key=True)\n",
    "    naziv = Column(String)\n",
    "\n",
    "    def __repr__(self):\n",
    "        return f\"Oddelek[{self.id}, {self.naziv}, {self.seznamZaposlenih}]\"\n",
    "\n",
    "\n",
    "class Zaposleni(Base):\n",
    "    __tablename__ = 'zaposleni'\n",
    "\n",
    "    id = Column(Integer, primary_key=True)\n",
    "    ime = Column(String)\n",
    "\n",
    "    # uporabimo razred func za dostop do funkcij na bazi, npr. func.now()\n",
    "    datum_zaposlitve = Column(DateTime, default=func.now())\n",
    "    oddelek_id = Column(Integer, ForeignKey('oddelek.id'))\n",
    "\n",
    "    # cascade='delete,all' bo povzročil brisanje vseh zaposlenih v oddelku\n",
    "    oddelek = relationship(Oddelek,\n",
    "                           backref=backref('seznamZaposlenih', uselist=True, cascade='delete,all'))\n",
    "\n",
    "    def __repr__(self):\n",
    "        return f\"Zaposleni[{self.id}, {self.ime}, {self.datum_zaposlitve}, {self.oddelek_id}]\""
   ]
  },
  {
   "cell_type": "code",
   "execution_count": null,
   "metadata": {},
   "outputs": [],
   "source": [
    "engine = create_engine('sqlite:///podjetje1.db', echo=True)\n",
    "Base.metadata.bind = engine\n",
    "Base.metadata.create_all(engine)"
   ]
  },
  {
   "cell_type": "code",
   "execution_count": null,
   "metadata": {},
   "outputs": [],
   "source": [
    "DBSessionMaker = sessionmaker(bind=engine)\n",
    "session = DBSessionMaker()"
   ]
  },
  {
   "cell_type": "markdown",
   "metadata": {},
   "source": [
    "Ustvarimo oddelek."
   ]
  },
  {
   "cell_type": "code",
   "execution_count": null,
   "metadata": {},
   "outputs": [],
   "source": [
    "(oddelek1 := Oddelek(naziv=\"IT\"))"
   ]
  },
  {
   "cell_type": "markdown",
   "metadata": {},
   "source": [
    "Ustvarimo zaposlenega."
   ]
  },
  {
   "cell_type": "code",
   "execution_count": null,
   "metadata": {},
   "outputs": [],
   "source": [
    "(zaposleni1 := Zaposleni(ime=\"Janez\", oddelek=oddelek1))"
   ]
  },
  {
   "cell_type": "markdown",
   "metadata": {},
   "source": [
    "Dodajmo ustvarjena objekta v bazo."
   ]
  },
  {
   "cell_type": "code",
   "execution_count": null,
   "metadata": {},
   "outputs": [],
   "source": [
    "session.add(oddelek1)\n",
    "session.add(zaposleni1)\n",
    "session.commit()"
   ]
  },
  {
   "cell_type": "markdown",
   "metadata": {},
   "source": [
    "Izpišimo trenutno vsebino baze."
   ]
  },
  {
   "cell_type": "code",
   "execution_count": null,
   "metadata": {},
   "outputs": [],
   "source": [
    "session.query(Zaposleni).all()"
   ]
  },
  {
   "cell_type": "code",
   "execution_count": null,
   "metadata": {},
   "outputs": [],
   "source": [
    "session.query(Oddelek).all()"
   ]
  },
  {
   "cell_type": "markdown",
   "metadata": {},
   "source": [
    "Izbrišimo `oddelek1`."
   ]
  },
  {
   "cell_type": "code",
   "execution_count": null,
   "metadata": {
    "scrolled": true
   },
   "outputs": [],
   "source": [
    "session.delete(oddelek1)\n",
    "session.commit()"
   ]
  },
  {
   "cell_type": "markdown",
   "metadata": {},
   "source": [
    "Spet izpišimo trenutno vsebino baze."
   ]
  },
  {
   "cell_type": "code",
   "execution_count": null,
   "metadata": {},
   "outputs": [],
   "source": [
    "session.query(Zaposleni).all()"
   ]
  },
  {
   "cell_type": "code",
   "execution_count": null,
   "metadata": {},
   "outputs": [],
   "source": [
    "session.query(Oddelek).all()"
   ]
  },
  {
   "cell_type": "markdown",
   "metadata": {},
   "source": [
    "Ustvarimo naslednjega zaposlenega in izpišimo datum zaposlitve."
   ]
  },
  {
   "cell_type": "code",
   "execution_count": null,
   "metadata": {},
   "outputs": [],
   "source": [
    "zaposleni2 = Zaposleni(ime=\"Francka\")\n",
    "session.add(zaposleni2)\n",
    "print(zaposleni2.datum_zaposlitve)"
   ]
  },
  {
   "cell_type": "markdown",
   "metadata": {},
   "source": [
    "Privzeta vrednost se nastavi šele, ko kličemo `commit`."
   ]
  },
  {
   "cell_type": "code",
   "execution_count": null,
   "metadata": {},
   "outputs": [],
   "source": [
    "session.commit()\n",
    "print(zaposleni2.datum_zaposlitve)"
   ]
  },
  {
   "cell_type": "markdown",
   "metadata": {},
   "source": [
    "Za privzeto vrednost smo uporabili `func.now()`. Izpišimo njeno vrednost pred in po interakciji z bazo."
   ]
  },
  {
   "cell_type": "code",
   "execution_count": null,
   "metadata": {},
   "outputs": [],
   "source": [
    "func.now()"
   ]
  },
  {
   "cell_type": "code",
   "execution_count": null,
   "metadata": {},
   "outputs": [],
   "source": [
    "rs = session.execute(select(func.now()))\n",
    "rs.fetchone()"
   ]
  },
  {
   "cell_type": "markdown",
   "metadata": {},
   "source": [
    "Pobrišimo vse oddelke in uporabnike v njih."
   ]
  },
  {
   "cell_type": "code",
   "execution_count": null,
   "metadata": {},
   "outputs": [],
   "source": [
    "for oddelek in session.query(Oddelek).all():\n",
    "    session.delete(oddelek)\n",
    "session.commit()"
   ]
  },
  {
   "cell_type": "markdown",
   "metadata": {},
   "source": [
    "Še enkrat preglejmo zaposlene."
   ]
  },
  {
   "cell_type": "code",
   "execution_count": null,
   "metadata": {},
   "outputs": [],
   "source": [
    "session.query(Zaposleni).all()"
   ]
  },
  {
   "cell_type": "markdown",
   "metadata": {},
   "source": [
    "Ustvarimo dva oddelka in tri zaposlene, ki jih vstavimo v oddelke."
   ]
  },
  {
   "cell_type": "code",
   "execution_count": null,
   "metadata": {},
   "outputs": [],
   "source": [
    "IT = Oddelek(naziv=\"IT\")\n",
    "finance = Oddelek(naziv=\"Finance\")\n",
    "janez = Zaposleni(ime=\"Janez\", oddelek=IT)\n",
    "metka = Zaposleni(ime=\"Metka\", oddelek=finance)\n",
    "session.add(IT)\n",
    "session.add(finance)\n",
    "session.add(janez)\n",
    "session.add(metka)\n",
    "session.commit()"
   ]
  },
  {
   "cell_type": "code",
   "execution_count": null,
   "metadata": {},
   "outputs": [],
   "source": [
    "katka = Zaposleni(ime=\"Katka\", oddelek=finance)\n",
    "session.add(katka)\n",
    "session.commit()"
   ]
  },
  {
   "cell_type": "markdown",
   "metadata": {},
   "source": [
    "Preštejmo zaposlene."
   ]
  },
  {
   "cell_type": "code",
   "execution_count": null,
   "metadata": {},
   "outputs": [],
   "source": [
    "session.query(Zaposleni).count()"
   ]
  },
  {
   "cell_type": "markdown",
   "metadata": {},
   "source": [
    "Izpišimo ime enega zaposlenega, ki se začne na črko K."
   ]
  },
  {
   "cell_type": "code",
   "execution_count": null,
   "metadata": {},
   "outputs": [],
   "source": [
    "session.query(Zaposleni).filter(Zaposleni.ime.startswith(\"K\")).one().ime"
   ]
  },
  {
   "cell_type": "markdown",
   "metadata": {},
   "source": [
    "Izpišimo ime enega zaposlenega, ki je hkrati v oddelku Finance in se njegovo ime začne na črko K."
   ]
  },
  {
   "cell_type": "code",
   "execution_count": null,
   "metadata": {},
   "outputs": [],
   "source": [
    "session.query(Zaposleni).join(Zaposleni.oddelek).filter(Zaposleni.ime.startswith('K'), Oddelek.naziv == 'Finance').all()"
   ]
  },
  {
   "cell_type": "markdown",
   "metadata": {},
   "source": [
    "Izpišimo število zaposlenih, ki so bili zaposleni v preteklosti."
   ]
  },
  {
   "cell_type": "code",
   "execution_count": null,
   "metadata": {},
   "outputs": [],
   "source": [
    "session.query(Zaposleni).filter(Zaposleni.datum_zaposlitve < func.now()).count()"
   ]
  }
 ],
 "metadata": {
  "kernelspec": {
   "display_name": "Python 3",
   "language": "python",
   "name": "python3"
  },
  "language_info": {
   "codemirror_mode": {
    "name": "ipython",
    "version": 3
   },
   "file_extension": ".py",
   "mimetype": "text/x-python",
   "name": "python",
   "nbconvert_exporter": "python",
   "pygments_lexer": "ipython3",
   "version": "3.12.3"
  }
 },
 "nbformat": 4,
 "nbformat_minor": 4
}
