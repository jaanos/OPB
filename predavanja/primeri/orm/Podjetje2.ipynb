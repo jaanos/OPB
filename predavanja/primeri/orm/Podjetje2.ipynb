{
 "cells": [
  {
   "cell_type": "markdown",
   "metadata": {},
   "source": [
    "# Podjetje, varianta 2"
   ]
  },
  {
   "cell_type": "code",
   "execution_count": 1,
   "metadata": {},
   "outputs": [],
   "source": [
    "import os\n",
    "from sqlalchemy import Column, DateTime, String, Integer, ForeignKey, func, create_engine\n",
    "from sqlalchemy.orm import relationship, backref, declarative_base, sessionmaker"
   ]
  },
  {
   "cell_type": "code",
   "execution_count": 2,
   "metadata": {},
   "outputs": [],
   "source": [
    "Base = declarative_base()\n",
    "\n",
    "\n",
    "class Oddelek(Base):\n",
    "    __tablename__ = 'oddelek'\n",
    "\n",
    "    id = Column(Integer, primary_key=True)\n",
    "    naziv = Column(String)\n",
    "\n",
    "    # Ime razreda lahko podamo kot niz (ker še ni definirano)\n",
    "    seznam_zaposlenih = relationship('Zaposleni', secondary='povezava',\n",
    "                                     back_populates='seznam_oddelkov')\n",
    "\n",
    "    def __repr__(self):\n",
    "        return f\"Oddelek[{self.id}, {self.naziv}]\"\n",
    "\n",
    "    \n",
    "class Zaposleni(Base):\n",
    "    __tablename__ = 'zaposleni'\n",
    "\n",
    "    id = Column(Integer, primary_key=True)\n",
    "    ime = Column(String)\n",
    "    datum_zaposlitve = Column(DateTime, default=func.now())\n",
    "    seznam_oddelkov = relationship(Oddelek, secondary='povezava',\n",
    "                                   back_populates='seznam_zaposlenih')\n",
    "\n",
    "    def __repr__(self):\n",
    "        return f\"Zaposleni[{self.id}, {self.ime}, {self.datum_zaposlitve}]\"\n",
    "\n",
    "\n",
    "class Povezava(Base):\n",
    "    __tablename__ = 'povezava'\n",
    "\n",
    "    oddelek_id = Column(Integer, ForeignKey('oddelek.id'), primary_key=True)\n",
    "    zaposleni_id = Column(Integer, ForeignKey('zaposleni.id'), primary_key=True)"
   ]
  },
  {
   "cell_type": "markdown",
   "metadata": {},
   "source": [
    "Povežimo se na bazo - če že obstaja, jo bomo najprej pobrisali."
   ]
  },
  {
   "cell_type": "code",
   "execution_count": 3,
   "metadata": {},
   "outputs": [],
   "source": [
    "baza = 'podjetje2.db'\n",
    "if os.path.exists(baza):\n",
    "    os.remove(baza)\n",
    "\n",
    "engine = create_engine(f'sqlite:///{baza}', echo=True)"
   ]
  },
  {
   "cell_type": "code",
   "execution_count": 4,
   "metadata": {},
   "outputs": [
    {
     "name": "stdout",
     "output_type": "stream",
     "text": [
      "2025-06-05 10:53:05,212 INFO sqlalchemy.engine.Engine BEGIN (implicit)\n",
      "2025-06-05 10:53:05,212 INFO sqlalchemy.engine.Engine PRAGMA main.table_info(\"oddelek\")\n",
      "2025-06-05 10:53:05,213 INFO sqlalchemy.engine.Engine [raw sql] ()\n",
      "2025-06-05 10:53:05,214 INFO sqlalchemy.engine.Engine PRAGMA temp.table_info(\"oddelek\")\n",
      "2025-06-05 10:53:05,214 INFO sqlalchemy.engine.Engine [raw sql] ()\n",
      "2025-06-05 10:53:05,215 INFO sqlalchemy.engine.Engine PRAGMA main.table_info(\"zaposleni\")\n",
      "2025-06-05 10:53:05,215 INFO sqlalchemy.engine.Engine [raw sql] ()\n",
      "2025-06-05 10:53:05,216 INFO sqlalchemy.engine.Engine PRAGMA temp.table_info(\"zaposleni\")\n",
      "2025-06-05 10:53:05,216 INFO sqlalchemy.engine.Engine [raw sql] ()\n",
      "2025-06-05 10:53:05,217 INFO sqlalchemy.engine.Engine PRAGMA main.table_info(\"povezava\")\n",
      "2025-06-05 10:53:05,217 INFO sqlalchemy.engine.Engine [raw sql] ()\n",
      "2025-06-05 10:53:05,218 INFO sqlalchemy.engine.Engine PRAGMA temp.table_info(\"povezava\")\n",
      "2025-06-05 10:53:05,218 INFO sqlalchemy.engine.Engine [raw sql] ()\n",
      "2025-06-05 10:53:05,219 INFO sqlalchemy.engine.Engine \n",
      "CREATE TABLE oddelek (\n",
      "\tid INTEGER NOT NULL, \n",
      "\tnaziv VARCHAR, \n",
      "\tPRIMARY KEY (id)\n",
      ")\n",
      "\n",
      "\n",
      "2025-06-05 10:53:05,220 INFO sqlalchemy.engine.Engine [no key 0.00044s] ()\n",
      "2025-06-05 10:53:05,230 INFO sqlalchemy.engine.Engine \n",
      "CREATE TABLE zaposleni (\n",
      "\tid INTEGER NOT NULL, \n",
      "\time VARCHAR, \n",
      "\tdatum_zaposlitve DATETIME, \n",
      "\tPRIMARY KEY (id)\n",
      ")\n",
      "\n",
      "\n",
      "2025-06-05 10:53:05,230 INFO sqlalchemy.engine.Engine [no key 0.00049s] ()\n",
      "2025-06-05 10:53:05,238 INFO sqlalchemy.engine.Engine \n",
      "CREATE TABLE povezava (\n",
      "\toddelek_id INTEGER NOT NULL, \n",
      "\tzaposleni_id INTEGER NOT NULL, \n",
      "\tPRIMARY KEY (oddelek_id, zaposleni_id), \n",
      "\tFOREIGN KEY(oddelek_id) REFERENCES oddelek (id), \n",
      "\tFOREIGN KEY(zaposleni_id) REFERENCES zaposleni (id)\n",
      ")\n",
      "\n",
      "\n",
      "2025-06-05 10:53:05,238 INFO sqlalchemy.engine.Engine [no key 0.00050s] ()\n",
      "2025-06-05 10:53:05,246 INFO sqlalchemy.engine.Engine COMMIT\n"
     ]
    }
   ],
   "source": [
    "Base.metadata.create_all(engine)\n",
    "DBSessionMaker = sessionmaker(bind=engine)\n",
    "session = DBSessionMaker()"
   ]
  },
  {
   "cell_type": "markdown",
   "metadata": {},
   "source": [
    "Ustvarimo dva oddelka in tri zaposlene."
   ]
  },
  {
   "cell_type": "code",
   "execution_count": 5,
   "metadata": {},
   "outputs": [],
   "source": [
    "IT = Oddelek(naziv=\"IT\")\n",
    "finance = Oddelek(naziv=\"Finance\")\n",
    "metka = Zaposleni(ime=\"Metka\")\n",
    "janez = Zaposleni(ime=\"Janez\")\n",
    "katka = Zaposleni(ime=\"Katka\")"
   ]
  },
  {
   "cell_type": "markdown",
   "metadata": {},
   "source": [
    "Dodajmo zaposlene v oddelke in zapišimo v bazo."
   ]
  },
  {
   "cell_type": "code",
   "execution_count": 6,
   "metadata": {},
   "outputs": [],
   "source": [
    "katka.seznam_oddelkov.append(finance)\n",
    "finance.seznam_zaposlenih.append(metka)\n",
    "janez.seznam_oddelkov.append(IT)"
   ]
  },
  {
   "cell_type": "code",
   "execution_count": 7,
   "metadata": {},
   "outputs": [
    {
     "name": "stdout",
     "output_type": "stream",
     "text": [
      "2025-06-05 10:54:01,035 INFO sqlalchemy.engine.Engine BEGIN (implicit)\n",
      "2025-06-05 10:54:01,036 INFO sqlalchemy.engine.Engine INSERT INTO oddelek (naziv) VALUES (?)\n",
      "2025-06-05 10:54:01,037 INFO sqlalchemy.engine.Engine [generated in 0.00062s] ('IT',)\n",
      "2025-06-05 10:54:01,038 INFO sqlalchemy.engine.Engine INSERT INTO oddelek (naziv) VALUES (?)\n",
      "2025-06-05 10:54:01,039 INFO sqlalchemy.engine.Engine [cached since 0.002363s ago] ('Finance',)\n",
      "2025-06-05 10:54:01,040 INFO sqlalchemy.engine.Engine INSERT INTO zaposleni (ime, datum_zaposlitve) VALUES (?, CURRENT_TIMESTAMP)\n",
      "2025-06-05 10:54:01,040 INFO sqlalchemy.engine.Engine [generated in 0.00036s] ('Janez',)\n",
      "2025-06-05 10:54:01,041 INFO sqlalchemy.engine.Engine INSERT INTO zaposleni (ime, datum_zaposlitve) VALUES (?, CURRENT_TIMESTAMP)\n",
      "2025-06-05 10:54:01,041 INFO sqlalchemy.engine.Engine [cached since 0.001339s ago] ('Katka',)\n",
      "2025-06-05 10:54:01,042 INFO sqlalchemy.engine.Engine INSERT INTO zaposleni (ime, datum_zaposlitve) VALUES (?, CURRENT_TIMESTAMP)\n",
      "2025-06-05 10:54:01,042 INFO sqlalchemy.engine.Engine [cached since 0.00223s ago] ('Metka',)\n",
      "2025-06-05 10:54:01,043 INFO sqlalchemy.engine.Engine INSERT INTO povezava (oddelek_id, zaposleni_id) VALUES (?, ?)\n",
      "2025-06-05 10:54:01,043 INFO sqlalchemy.engine.Engine [generated in 0.00042s] ((1, 1), (2, 2), (2, 3))\n",
      "2025-06-05 10:54:01,045 INFO sqlalchemy.engine.Engine COMMIT\n"
     ]
    }
   ],
   "source": [
    "session.add(IT)\n",
    "session.add(finance)\n",
    "session.add(janez)\n",
    "session.add(metka)\n",
    "session.add(katka)\n",
    "session.commit()"
   ]
  },
  {
   "cell_type": "markdown",
   "metadata": {},
   "source": [
    "Izpišimo Janezove oddelke."
   ]
  },
  {
   "cell_type": "code",
   "execution_count": 8,
   "metadata": {},
   "outputs": [
    {
     "name": "stdout",
     "output_type": "stream",
     "text": [
      "2025-06-05 10:55:12,180 INFO sqlalchemy.engine.Engine BEGIN (implicit)\n",
      "2025-06-05 10:55:12,184 INFO sqlalchemy.engine.Engine SELECT zaposleni.id AS zaposleni_id, zaposleni.ime AS zaposleni_ime, zaposleni.datum_zaposlitve AS zaposleni_datum_zaposlitve \n",
      "FROM zaposleni \n",
      "WHERE zaposleni.id = ?\n",
      "2025-06-05 10:55:12,185 INFO sqlalchemy.engine.Engine [generated in 0.00122s] (1,)\n",
      "2025-06-05 10:55:12,187 INFO sqlalchemy.engine.Engine SELECT oddelek.id AS oddelek_id, oddelek.naziv AS oddelek_naziv \n",
      "FROM oddelek, povezava \n",
      "WHERE ? = povezava.zaposleni_id AND oddelek.id = povezava.oddelek_id\n",
      "2025-06-05 10:55:12,187 INFO sqlalchemy.engine.Engine [generated in 0.00046s] (1,)\n"
     ]
    },
    {
     "data": {
      "text/plain": [
       "[Oddelek[1, IT]]"
      ]
     },
     "execution_count": 8,
     "metadata": {},
     "output_type": "execute_result"
    }
   ],
   "source": [
    "janez.seznam_oddelkov"
   ]
  },
  {
   "cell_type": "markdown",
   "metadata": {},
   "source": [
    "Izpišimo zaposlene na oddelku Finance."
   ]
  },
  {
   "cell_type": "code",
   "execution_count": 9,
   "metadata": {},
   "outputs": [
    {
     "name": "stdout",
     "output_type": "stream",
     "text": [
      "2025-06-05 10:55:20,200 INFO sqlalchemy.engine.Engine SELECT oddelek.id AS oddelek_id, oddelek.naziv AS oddelek_naziv \n",
      "FROM oddelek \n",
      "WHERE oddelek.id = ?\n",
      "2025-06-05 10:55:20,201 INFO sqlalchemy.engine.Engine [generated in 0.00115s] (2,)\n",
      "2025-06-05 10:55:20,203 INFO sqlalchemy.engine.Engine SELECT zaposleni.id AS zaposleni_id, zaposleni.ime AS zaposleni_ime, zaposleni.datum_zaposlitve AS zaposleni_datum_zaposlitve \n",
      "FROM zaposleni, povezava \n",
      "WHERE ? = povezava.oddelek_id AND zaposleni.id = povezava.zaposleni_id\n",
      "2025-06-05 10:55:20,204 INFO sqlalchemy.engine.Engine [generated in 0.00055s] (2,)\n"
     ]
    },
    {
     "data": {
      "text/plain": [
       "[Zaposleni[2, Katka, 2025-06-05 08:54:01],\n",
       " Zaposleni[3, Metka, 2025-06-05 08:54:01]]"
      ]
     },
     "execution_count": 9,
     "metadata": {},
     "output_type": "execute_result"
    }
   ],
   "source": [
    "finance.seznam_zaposlenih"
   ]
  },
  {
   "cell_type": "code",
   "execution_count": 11,
   "metadata": {},
   "outputs": [
    {
     "data": {
      "text/plain": [
       "[Oddelek[2, Finance]]"
      ]
     },
     "execution_count": 11,
     "metadata": {},
     "output_type": "execute_result"
    }
   ],
   "source": [
    "metka.seznam_oddelkov"
   ]
  },
  {
   "cell_type": "markdown",
   "metadata": {},
   "source": [
    "Izpišimo zaposlene na oddelku Finance s poizvedbo na oddelkih."
   ]
  },
  {
   "cell_type": "code",
   "execution_count": 12,
   "metadata": {},
   "outputs": [
    {
     "name": "stdout",
     "output_type": "stream",
     "text": [
      "2025-06-05 10:56:23,052 INFO sqlalchemy.engine.Engine SELECT oddelek.id AS oddelek_id, oddelek.naziv AS oddelek_naziv \n",
      "FROM oddelek \n",
      "WHERE oddelek.naziv = ?\n",
      "2025-06-05 10:56:23,053 INFO sqlalchemy.engine.Engine [generated in 0.00152s] ('Finance',)\n"
     ]
    },
    {
     "data": {
      "text/plain": [
       "[Zaposleni[2, Katka, 2025-06-05 08:54:01],\n",
       " Zaposleni[3, Metka, 2025-06-05 08:54:01]]"
      ]
     },
     "execution_count": 12,
     "metadata": {},
     "output_type": "execute_result"
    }
   ],
   "source": [
    "session.query(Oddelek).filter(Oddelek.naziv == 'Finance').one().seznam_zaposlenih"
   ]
  },
  {
   "cell_type": "code",
   "execution_count": 13,
   "metadata": {},
   "outputs": [
    {
     "name": "stdout",
     "output_type": "stream",
     "text": [
      "2025-06-05 10:57:15,389 INFO sqlalchemy.engine.Engine SELECT oddelek.id AS oddelek_id, oddelek.naziv AS oddelek_naziv \n",
      "FROM oddelek \n",
      "WHERE oddelek.naziv = ?\n",
      "2025-06-05 10:57:15,392 INFO sqlalchemy.engine.Engine [cached since 52.34s ago] ('IT',)\n",
      "2025-06-05 10:57:15,397 INFO sqlalchemy.engine.Engine SELECT zaposleni.id AS zaposleni_id, zaposleni.ime AS zaposleni_ime, zaposleni.datum_zaposlitve AS zaposleni_datum_zaposlitve \n",
      "FROM zaposleni, povezava \n",
      "WHERE ? = povezava.oddelek_id AND zaposleni.id = povezava.zaposleni_id\n",
      "2025-06-05 10:57:15,399 INFO sqlalchemy.engine.Engine [cached since 115.2s ago] (1,)\n"
     ]
    },
    {
     "data": {
      "text/plain": [
       "[Zaposleni[1, Janez, 2025-06-05 08:54:01]]"
      ]
     },
     "execution_count": 13,
     "metadata": {},
     "output_type": "execute_result"
    }
   ],
   "source": [
    "session.query(Oddelek).filter(Oddelek.naziv == 'IT').one().seznam_zaposlenih"
   ]
  },
  {
   "cell_type": "markdown",
   "metadata": {},
   "source": [
    "Izpišimo zaposlene na oddelku Finance s poizvedbo na zaposlenih."
   ]
  },
  {
   "cell_type": "code",
   "execution_count": 14,
   "metadata": {},
   "outputs": [
    {
     "name": "stdout",
     "output_type": "stream",
     "text": [
      "2025-06-05 10:58:21,995 INFO sqlalchemy.engine.Engine SELECT zaposleni.id AS zaposleni_id, zaposleni.ime AS zaposleni_ime, zaposleni.datum_zaposlitve AS zaposleni_datum_zaposlitve \n",
      "FROM zaposleni \n",
      "WHERE EXISTS (SELECT 1 \n",
      "FROM povezava, oddelek \n",
      "WHERE zaposleni.id = povezava.zaposleni_id AND oddelek.id = povezava.oddelek_id AND oddelek.naziv = ?)\n",
      "2025-06-05 10:58:21,996 INFO sqlalchemy.engine.Engine [generated in 0.00127s] ('Finance',)\n"
     ]
    },
    {
     "data": {
      "text/plain": [
       "[Zaposleni[2, Katka, 2025-06-05 08:54:01],\n",
       " Zaposleni[3, Metka, 2025-06-05 08:54:01]]"
      ]
     },
     "execution_count": 14,
     "metadata": {},
     "output_type": "execute_result"
    }
   ],
   "source": [
    "session.query(Zaposleni).filter(Zaposleni.seznam_oddelkov.any(Oddelek.naziv == 'Finance')).all()"
   ]
  }
 ],
 "metadata": {
  "kernelspec": {
   "display_name": "Python 3 (ipykernel)",
   "language": "python",
   "name": "python3"
  },
  "language_info": {
   "codemirror_mode": {
    "name": "ipython",
    "version": 3
   },
   "file_extension": ".py",
   "mimetype": "text/x-python",
   "name": "python",
   "nbconvert_exporter": "python",
   "pygments_lexer": "ipython3",
   "version": "3.12.3"
  }
 },
 "nbformat": 4,
 "nbformat_minor": 4
}
