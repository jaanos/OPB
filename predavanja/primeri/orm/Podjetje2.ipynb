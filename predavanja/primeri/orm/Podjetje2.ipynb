{
 "cells": [
  {
   "cell_type": "markdown",
   "metadata": {},
   "source": [
    "# Podjetje, varianta 2"
   ]
  },
  {
   "cell_type": "code",
   "execution_count": 1,
   "metadata": {},
   "outputs": [],
   "source": [
    "import os\n",
    "from sqlalchemy import Column, DateTime, String, Integer, ForeignKey, func, create_engine\n",
    "from sqlalchemy.orm import relationship, backref, declarative_base, sessionmaker"
   ]
  },
  {
   "cell_type": "code",
   "execution_count": 3,
   "metadata": {},
   "outputs": [],
   "source": [
    "Base = declarative_base()\n",
    "\n",
    "\n",
    "class Oddelek(Base):\n",
    "    __tablename__ = 'oddelek'\n",
    "\n",
    "    id = Column(Integer, primary_key=True)\n",
    "    naziv = Column(String)\n",
    "\n",
    "    # Ime razreda lahko podamo kot niz (ker še ni definirano)\n",
    "    seznam_zaposlenih = relationship('Zaposleni', secondary='povezava', back_populates='seznam_oddelkov')\n",
    "\n",
    "    def __repr__(self):\n",
    "        return f\"Oddelek[{self.id}, {self.naziv}]\"\n",
    "\n",
    "    \n",
    "class Zaposleni(Base):\n",
    "    __tablename__ = 'zaposleni'\n",
    "\n",
    "    id = Column(Integer, primary_key=True)\n",
    "    ime = Column(String)\n",
    "    datum_zaposlitve = Column(DateTime, default=func.now())\n",
    "    seznam_oddelkov = relationship(Oddelek, secondary='povezava', back_populates='seznam_zaposlenih')\n",
    "\n",
    "    def __repr__(self):\n",
    "        return f\"Zaposleni[{self.id}, {self.ime}, {self.datum_zaposlitve}]\"\n",
    "\n",
    "\n",
    "class Povezava(Base):\n",
    "    __tablename__ = 'povezava'\n",
    "\n",
    "    oddelek_id = Column(Integer, ForeignKey('oddelek.id'), primary_key=True)\n",
    "    zaposleni_id = Column(Integer, ForeignKey('zaposleni.id'), primary_key=True)"
   ]
  },
  {
   "cell_type": "markdown",
   "metadata": {},
   "source": [
    "Povežimo se na bazo - če že obstaja, jo bomo najprej pobrisali."
   ]
  },
  {
   "cell_type": "code",
   "execution_count": 4,
   "metadata": {},
   "outputs": [],
   "source": [
    "baza = 'podjetje2.db'\n",
    "if os.path.exists(baza):\n",
    "    os.remove(baza)\n",
    "\n",
    "engine = create_engine(f'sqlite:///{baza}', echo=True)"
   ]
  },
  {
   "cell_type": "code",
   "execution_count": 5,
   "metadata": {},
   "outputs": [
    {
     "name": "stdout",
     "output_type": "stream",
     "text": [
      "2024-05-13 17:49:16,851 INFO sqlalchemy.engine.Engine BEGIN (implicit)\n",
      "2024-05-13 17:49:16,853 INFO sqlalchemy.engine.Engine PRAGMA main.table_info(\"oddelek\")\n",
      "2024-05-13 17:49:16,854 INFO sqlalchemy.engine.Engine [raw sql] ()\n",
      "2024-05-13 17:49:16,856 INFO sqlalchemy.engine.Engine PRAGMA temp.table_info(\"oddelek\")\n",
      "2024-05-13 17:49:16,857 INFO sqlalchemy.engine.Engine [raw sql] ()\n",
      "2024-05-13 17:49:16,858 INFO sqlalchemy.engine.Engine PRAGMA main.table_info(\"zaposleni\")\n",
      "2024-05-13 17:49:16,858 INFO sqlalchemy.engine.Engine [raw sql] ()\n",
      "2024-05-13 17:49:16,859 INFO sqlalchemy.engine.Engine PRAGMA temp.table_info(\"zaposleni\")\n",
      "2024-05-13 17:49:16,860 INFO sqlalchemy.engine.Engine [raw sql] ()\n",
      "2024-05-13 17:49:16,861 INFO sqlalchemy.engine.Engine PRAGMA main.table_info(\"povezava\")\n",
      "2024-05-13 17:49:16,862 INFO sqlalchemy.engine.Engine [raw sql] ()\n",
      "2024-05-13 17:49:16,862 INFO sqlalchemy.engine.Engine PRAGMA temp.table_info(\"povezava\")\n",
      "2024-05-13 17:49:16,863 INFO sqlalchemy.engine.Engine [raw sql] ()\n",
      "2024-05-13 17:49:16,865 INFO sqlalchemy.engine.Engine \n",
      "CREATE TABLE oddelek (\n",
      "\tid INTEGER NOT NULL, \n",
      "\tnaziv VARCHAR, \n",
      "\tPRIMARY KEY (id)\n",
      ")\n",
      "\n",
      "\n",
      "2024-05-13 17:49:16,866 INFO sqlalchemy.engine.Engine [no key 0.00083s] ()\n",
      "2024-05-13 17:49:16,874 INFO sqlalchemy.engine.Engine \n",
      "CREATE TABLE zaposleni (\n",
      "\tid INTEGER NOT NULL, \n",
      "\time VARCHAR, \n",
      "\tdatum_zaposlitve DATETIME, \n",
      "\tPRIMARY KEY (id)\n",
      ")\n",
      "\n",
      "\n",
      "2024-05-13 17:49:16,875 INFO sqlalchemy.engine.Engine [no key 0.00101s] ()\n",
      "2024-05-13 17:49:16,883 INFO sqlalchemy.engine.Engine \n",
      "CREATE TABLE povezava (\n",
      "\toddelek_id INTEGER NOT NULL, \n",
      "\tzaposleni_id INTEGER NOT NULL, \n",
      "\tPRIMARY KEY (oddelek_id, zaposleni_id), \n",
      "\tFOREIGN KEY(oddelek_id) REFERENCES oddelek (id), \n",
      "\tFOREIGN KEY(zaposleni_id) REFERENCES zaposleni (id)\n",
      ")\n",
      "\n",
      "\n",
      "2024-05-13 17:49:16,884 INFO sqlalchemy.engine.Engine [no key 0.00071s] ()\n",
      "2024-05-13 17:49:16,892 INFO sqlalchemy.engine.Engine COMMIT\n"
     ]
    }
   ],
   "source": [
    "Base.metadata.create_all(engine)\n",
    "DBSessionMaker = sessionmaker(bind=engine)\n",
    "session = DBSessionMaker()"
   ]
  },
  {
   "cell_type": "markdown",
   "metadata": {},
   "source": [
    "Ustvarimo dva oddelka in tri zaposlene."
   ]
  },
  {
   "cell_type": "code",
   "execution_count": 6,
   "metadata": {},
   "outputs": [],
   "source": [
    "IT = Oddelek(naziv=\"IT\")\n",
    "finance = Oddelek(naziv=\"Finance\")\n",
    "metka = Zaposleni(ime=\"Metka\")\n",
    "janez = Zaposleni(ime=\"Janez\")\n",
    "katka = Zaposleni(ime=\"Katka\")"
   ]
  },
  {
   "cell_type": "markdown",
   "metadata": {},
   "source": [
    "Dodajmo zaposlene v oddelke in zapišimo v bazo."
   ]
  },
  {
   "cell_type": "code",
   "execution_count": 7,
   "metadata": {},
   "outputs": [],
   "source": [
    "katka.seznam_oddelkov.append(finance)\n",
    "finance.seznam_zaposlenih.append(metka)\n",
    "janez.seznam_oddelkov.append(IT)"
   ]
  },
  {
   "cell_type": "code",
   "execution_count": 8,
   "metadata": {},
   "outputs": [
    {
     "name": "stdout",
     "output_type": "stream",
     "text": [
      "2024-05-13 17:50:15,210 INFO sqlalchemy.engine.Engine BEGIN (implicit)\n",
      "2024-05-13 17:50:15,212 INFO sqlalchemy.engine.Engine INSERT INTO oddelek (naziv) VALUES (?)\n",
      "2024-05-13 17:50:15,213 INFO sqlalchemy.engine.Engine [generated in 0.00079s] ('IT',)\n",
      "2024-05-13 17:50:15,214 INFO sqlalchemy.engine.Engine INSERT INTO oddelek (naziv) VALUES (?)\n",
      "2024-05-13 17:50:15,215 INFO sqlalchemy.engine.Engine [cached since 0.002819s ago] ('Finance',)\n",
      "2024-05-13 17:50:15,217 INFO sqlalchemy.engine.Engine INSERT INTO zaposleni (ime, datum_zaposlitve) VALUES (?, CURRENT_TIMESTAMP)\n",
      "2024-05-13 17:50:15,217 INFO sqlalchemy.engine.Engine [generated in 0.00056s] ('Janez',)\n",
      "2024-05-13 17:50:15,218 INFO sqlalchemy.engine.Engine INSERT INTO zaposleni (ime, datum_zaposlitve) VALUES (?, CURRENT_TIMESTAMP)\n",
      "2024-05-13 17:50:15,219 INFO sqlalchemy.engine.Engine [cached since 0.001886s ago] ('Katka',)\n",
      "2024-05-13 17:50:15,219 INFO sqlalchemy.engine.Engine INSERT INTO zaposleni (ime, datum_zaposlitve) VALUES (?, CURRENT_TIMESTAMP)\n",
      "2024-05-13 17:50:15,220 INFO sqlalchemy.engine.Engine [cached since 0.003165s ago] ('Metka',)\n",
      "2024-05-13 17:50:15,222 INFO sqlalchemy.engine.Engine INSERT INTO povezava (oddelek_id, zaposleni_id) VALUES (?, ?)\n",
      "2024-05-13 17:50:15,223 INFO sqlalchemy.engine.Engine [generated in 0.00119s] [(1, 1), (2, 2), (2, 3)]\n",
      "2024-05-13 17:50:15,225 INFO sqlalchemy.engine.Engine COMMIT\n"
     ]
    }
   ],
   "source": [
    "session.add(IT)\n",
    "session.add(finance)\n",
    "session.add(janez)\n",
    "session.add(metka)\n",
    "session.add(katka)\n",
    "session.commit()"
   ]
  },
  {
   "cell_type": "markdown",
   "metadata": {},
   "source": [
    "Izpišimo Janezove oddelke."
   ]
  },
  {
   "cell_type": "code",
   "execution_count": 9,
   "metadata": {},
   "outputs": [
    {
     "name": "stdout",
     "output_type": "stream",
     "text": [
      "2024-05-13 17:50:56,162 INFO sqlalchemy.engine.Engine BEGIN (implicit)\n",
      "2024-05-13 17:50:56,168 INFO sqlalchemy.engine.Engine SELECT zaposleni.id AS zaposleni_id, zaposleni.ime AS zaposleni_ime, zaposleni.datum_zaposlitve AS zaposleni_datum_zaposlitve \n",
      "FROM zaposleni \n",
      "WHERE zaposleni.id = ?\n",
      "2024-05-13 17:50:56,169 INFO sqlalchemy.engine.Engine [generated in 0.00093s] (1,)\n",
      "2024-05-13 17:50:56,172 INFO sqlalchemy.engine.Engine SELECT oddelek.id AS oddelek_id, oddelek.naziv AS oddelek_naziv \n",
      "FROM oddelek, povezava \n",
      "WHERE ? = povezava.zaposleni_id AND oddelek.id = povezava.oddelek_id\n",
      "2024-05-13 17:50:56,173 INFO sqlalchemy.engine.Engine [generated in 0.00082s] (1,)\n"
     ]
    },
    {
     "data": {
      "text/plain": [
       "[Oddelek[1, IT]]"
      ]
     },
     "execution_count": 9,
     "metadata": {},
     "output_type": "execute_result"
    }
   ],
   "source": [
    "janez.seznam_oddelkov"
   ]
  },
  {
   "cell_type": "markdown",
   "metadata": {},
   "source": [
    "Izpišimo zaposlene na oddelku Finance."
   ]
  },
  {
   "cell_type": "code",
   "execution_count": 10,
   "metadata": {},
   "outputs": [
    {
     "name": "stdout",
     "output_type": "stream",
     "text": [
      "2024-05-13 17:51:07,100 INFO sqlalchemy.engine.Engine SELECT oddelek.id AS oddelek_id, oddelek.naziv AS oddelek_naziv \n",
      "FROM oddelek \n",
      "WHERE oddelek.id = ?\n",
      "2024-05-13 17:51:07,102 INFO sqlalchemy.engine.Engine [generated in 0.00134s] (2,)\n",
      "2024-05-13 17:51:07,104 INFO sqlalchemy.engine.Engine SELECT zaposleni.id AS zaposleni_id, zaposleni.ime AS zaposleni_ime, zaposleni.datum_zaposlitve AS zaposleni_datum_zaposlitve \n",
      "FROM zaposleni, povezava \n",
      "WHERE ? = povezava.oddelek_id AND zaposleni.id = povezava.zaposleni_id\n",
      "2024-05-13 17:51:07,105 INFO sqlalchemy.engine.Engine [generated in 0.00074s] (2,)\n"
     ]
    },
    {
     "data": {
      "text/plain": [
       "[Zaposleni[2, Katka, 2024-05-13 15:50:15],\n",
       " Zaposleni[3, Metka, 2024-05-13 15:50:15]]"
      ]
     },
     "execution_count": 10,
     "metadata": {},
     "output_type": "execute_result"
    }
   ],
   "source": [
    "finance.seznam_zaposlenih"
   ]
  },
  {
   "cell_type": "markdown",
   "metadata": {},
   "source": [
    "Izpišimo zaposlene na oddelku Finance s poizvedbo na oddelkih."
   ]
  },
  {
   "cell_type": "code",
   "execution_count": 11,
   "metadata": {},
   "outputs": [
    {
     "name": "stdout",
     "output_type": "stream",
     "text": [
      "2024-05-13 17:51:42,673 INFO sqlalchemy.engine.Engine SELECT oddelek.id AS oddelek_id, oddelek.naziv AS oddelek_naziv \n",
      "FROM oddelek \n",
      "WHERE oddelek.naziv = ?\n",
      "2024-05-13 17:51:42,674 INFO sqlalchemy.engine.Engine [generated in 0.00069s] ('Finance',)\n"
     ]
    },
    {
     "data": {
      "text/plain": [
       "[Zaposleni[2, Katka, 2024-05-13 15:50:15],\n",
       " Zaposleni[3, Metka, 2024-05-13 15:50:15]]"
      ]
     },
     "execution_count": 11,
     "metadata": {},
     "output_type": "execute_result"
    }
   ],
   "source": [
    "session.query(Oddelek).filter(Oddelek.naziv == 'Finance').one().seznam_zaposlenih"
   ]
  },
  {
   "cell_type": "markdown",
   "metadata": {},
   "source": [
    "Izpišimo zaposlene na oddelku Finance s poizvedbo na zaposlenih."
   ]
  },
  {
   "cell_type": "code",
   "execution_count": 12,
   "metadata": {},
   "outputs": [
    {
     "name": "stdout",
     "output_type": "stream",
     "text": [
      "2024-05-13 17:52:34,299 INFO sqlalchemy.engine.Engine SELECT zaposleni.id AS zaposleni_id, zaposleni.ime AS zaposleni_ime, zaposleni.datum_zaposlitve AS zaposleni_datum_zaposlitve \n",
      "FROM zaposleni \n",
      "WHERE EXISTS (SELECT 1 \n",
      "FROM oddelek, povezava \n",
      "WHERE zaposleni.id = povezava.zaposleni_id AND oddelek.id = povezava.oddelek_id AND oddelek.naziv = ?)\n",
      "2024-05-13 17:52:34,300 INFO sqlalchemy.engine.Engine [generated in 0.00105s] ('Finance',)\n"
     ]
    },
    {
     "data": {
      "text/plain": [
       "[Zaposleni[2, Katka, 2024-05-13 15:50:15],\n",
       " Zaposleni[3, Metka, 2024-05-13 15:50:15]]"
      ]
     },
     "execution_count": 12,
     "metadata": {},
     "output_type": "execute_result"
    }
   ],
   "source": [
    "session.query(Zaposleni).filter(Zaposleni.seznam_oddelkov.any(Oddelek.naziv == 'Finance')).all()"
   ]
  }
 ],
 "metadata": {
  "kernelspec": {
   "display_name": "Python 3",
   "language": "python",
   "name": "python3"
  },
  "language_info": {
   "codemirror_mode": {
    "name": "ipython",
    "version": 3
   },
   "file_extension": ".py",
   "mimetype": "text/x-python",
   "name": "python",
   "nbconvert_exporter": "python",
   "pygments_lexer": "ipython3",
   "version": "3.8.10"
  }
 },
 "nbformat": 4,
 "nbformat_minor": 4
}
