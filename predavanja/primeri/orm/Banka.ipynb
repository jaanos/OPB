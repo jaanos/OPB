{
 "cells": [
  {
   "cell_type": "markdown",
   "metadata": {},
   "source": [
    "# Banka z SQLAlchemy\n",
    "\n",
    "Knjižnico `sqlalchemy` namestimo z ukazom\n",
    "```bash\n",
    "python -m pip install sqlalchemy\n",
    "```\n",
    "oziroma (če nimamo administratorskih pravic)\n",
    "```bash\n",
    "python -m pip install --user sqlalchemy\n",
    "```"
   ]
  },
  {
   "cell_type": "code",
   "execution_count": 1,
   "metadata": {},
   "outputs": [],
   "source": [
    "from sqlalchemy import Column, ForeignKey, Integer, String\n",
    "from sqlalchemy.orm import relationship, declarative_base, sessionmaker\n",
    "from sqlalchemy import create_engine"
   ]
  },
  {
   "cell_type": "markdown",
   "metadata": {},
   "source": [
    "Definirajmo naše razrede (entitetne tipe)."
   ]
  },
  {
   "cell_type": "code",
   "execution_count": 2,
   "metadata": {},
   "outputs": [],
   "source": [
    "Base = declarative_base()\n",
    "\n",
    "class Kraj(Base):\n",
    "    # Tako se bo imenavala tabela v bazi\n",
    "    __tablename__ = 'kraj'\n",
    "    \n",
    "    # Atributi (lastnosti), ki sledijo se preslikajo v stolpce\n",
    "    posta = Column(Integer, primary_key=True)\n",
    "    kraj = Column(String(250))\n",
    "\n",
    "class Oseba(Base):\n",
    "    __tablename__ = 'oseba'\n",
    "    \n",
    "    id = Column(Integer, primary_key=True)               # Primarni ključ\n",
    "    ime = Column(String(250), nullable=False)            # Ne sme biti NULL\n",
    "    kraj_id = Column(Integer, ForeignKey('kraj.posta')) # tuji ključ\n",
    "    # Lastnost, ki odraža povezavo do tabele kraj.\n",
    "    # Ker je enolično določena, ne rabimo dodatnih parametrov.\n",
    "    kraj = relationship(Kraj)"
   ]
  },
  {
   "cell_type": "markdown",
   "metadata": {},
   "source": [
    "Generirajmo podatkovno bazo v SQLite (datoteko `banka-orm.db`) oziroma se z njo povežimo, če datoteka že obstaja.\n",
    "\n",
    "Če želimo izpise stavkov SQL, nastavimo parameter `echo=True`. Tega v produkciji **ne** nastavimo."
   ]
  },
  {
   "cell_type": "code",
   "execution_count": 3,
   "metadata": {},
   "outputs": [],
   "source": [
    "engine = create_engine('sqlite:///banka-orm.db', echo=True)"
   ]
  },
  {
   "cell_type": "markdown",
   "metadata": {},
   "source": [
    "Povežimo `engine` na razred `Base`."
   ]
  },
  {
   "cell_type": "code",
   "execution_count": 4,
   "metadata": {},
   "outputs": [],
   "source": [
    "Base.metadata.bind = engine"
   ]
  },
  {
   "cell_type": "markdown",
   "metadata": {},
   "source": [
    "Tabele na bazi v tem trenutku še niso ustvarjene. Ustvarimo jih z naslednjim klicem."
   ]
  },
  {
   "cell_type": "code",
   "execution_count": 5,
   "metadata": {},
   "outputs": [
    {
     "name": "stdout",
     "output_type": "stream",
     "text": [
      "2025-06-05 10:24:27,533 INFO sqlalchemy.engine.Engine BEGIN (implicit)\n",
      "2025-06-05 10:24:27,534 INFO sqlalchemy.engine.Engine PRAGMA main.table_info(\"kraj\")\n",
      "2025-06-05 10:24:27,535 INFO sqlalchemy.engine.Engine [raw sql] ()\n",
      "2025-06-05 10:24:27,536 INFO sqlalchemy.engine.Engine PRAGMA temp.table_info(\"kraj\")\n",
      "2025-06-05 10:24:27,537 INFO sqlalchemy.engine.Engine [raw sql] ()\n",
      "2025-06-05 10:24:27,537 INFO sqlalchemy.engine.Engine PRAGMA main.table_info(\"oseba\")\n",
      "2025-06-05 10:24:27,538 INFO sqlalchemy.engine.Engine [raw sql] ()\n",
      "2025-06-05 10:24:27,538 INFO sqlalchemy.engine.Engine PRAGMA temp.table_info(\"oseba\")\n",
      "2025-06-05 10:24:27,539 INFO sqlalchemy.engine.Engine [raw sql] ()\n",
      "2025-06-05 10:24:27,540 INFO sqlalchemy.engine.Engine \n",
      "CREATE TABLE kraj (\n",
      "\tposta INTEGER NOT NULL, \n",
      "\tkraj VARCHAR(250), \n",
      "\tPRIMARY KEY (posta)\n",
      ")\n",
      "\n",
      "\n",
      "2025-06-05 10:24:27,540 INFO sqlalchemy.engine.Engine [no key 0.00036s] ()\n",
      "2025-06-05 10:24:27,553 INFO sqlalchemy.engine.Engine \n",
      "CREATE TABLE oseba (\n",
      "\tid INTEGER NOT NULL, \n",
      "\time VARCHAR(250) NOT NULL, \n",
      "\tkraj_id INTEGER, \n",
      "\tPRIMARY KEY (id), \n",
      "\tFOREIGN KEY(kraj_id) REFERENCES kraj (posta)\n",
      ")\n",
      "\n",
      "\n",
      "2025-06-05 10:24:27,554 INFO sqlalchemy.engine.Engine [no key 0.00053s] ()\n",
      "2025-06-05 10:24:27,561 INFO sqlalchemy.engine.Engine COMMIT\n"
     ]
    }
   ],
   "source": [
    "Base.metadata.create_all(engine)"
   ]
  },
  {
   "cell_type": "markdown",
   "metadata": {},
   "source": [
    "Odprimo generator sej in ustvarimo novo sejo."
   ]
  },
  {
   "cell_type": "code",
   "execution_count": 6,
   "metadata": {},
   "outputs": [],
   "source": [
    "DBSessionMaker = sessionmaker(bind=engine)\n",
    "session = DBSessionMaker()"
   ]
  },
  {
   "cell_type": "markdown",
   "metadata": {},
   "source": [
    "Ustvarimo nov objekt razreda `Kraj` in ga dodamo v sejo."
   ]
  },
  {
   "cell_type": "code",
   "execution_count": 7,
   "metadata": {},
   "outputs": [],
   "source": [
    "nov_kraj = Kraj(posta=1000, kraj='Ljubljana')\n",
    "session.add(nov_kraj)"
   ]
  },
  {
   "cell_type": "markdown",
   "metadata": {},
   "source": [
    "Metoda `commit` shrani (spremenjene) objekte v seji v podatkovno bazo."
   ]
  },
  {
   "cell_type": "code",
   "execution_count": 8,
   "metadata": {},
   "outputs": [
    {
     "name": "stdout",
     "output_type": "stream",
     "text": [
      "2025-06-05 10:26:17,095 INFO sqlalchemy.engine.Engine BEGIN (implicit)\n",
      "2025-06-05 10:26:17,096 INFO sqlalchemy.engine.Engine INSERT INTO kraj (posta, kraj) VALUES (?, ?)\n",
      "2025-06-05 10:26:17,097 INFO sqlalchemy.engine.Engine [generated in 0.00077s] (1000, 'Ljubljana')\n",
      "2025-06-05 10:26:17,098 INFO sqlalchemy.engine.Engine COMMIT\n"
     ]
    }
   ],
   "source": [
    "session.commit()"
   ]
  },
  {
   "cell_type": "markdown",
   "metadata": {},
   "source": [
    "Ustvarimo nov objekt razreda `Oseba` in ga preko lastnosti `kraj` povežemo s prej ustvarjenim krajem."
   ]
  },
  {
   "cell_type": "code",
   "execution_count": 9,
   "metadata": {},
   "outputs": [
    {
     "name": "stdout",
     "output_type": "stream",
     "text": [
      "2025-06-05 10:27:44,851 INFO sqlalchemy.engine.Engine BEGIN (implicit)\n",
      "2025-06-05 10:27:44,854 INFO sqlalchemy.engine.Engine SELECT kraj.posta AS kraj_posta, kraj.kraj AS kraj_kraj \n",
      "FROM kraj \n",
      "WHERE kraj.posta = ?\n",
      "2025-06-05 10:27:44,855 INFO sqlalchemy.engine.Engine [generated in 0.00063s] (1000,)\n",
      "2025-06-05 10:27:44,857 INFO sqlalchemy.engine.Engine INSERT INTO oseba (ime, kraj_id) VALUES (?, ?)\n",
      "2025-06-05 10:27:44,857 INFO sqlalchemy.engine.Engine [generated in 0.00047s] ('Janez', 1000)\n",
      "2025-06-05 10:27:44,858 INFO sqlalchemy.engine.Engine COMMIT\n"
     ]
    }
   ],
   "source": [
    "nova_oseba = Oseba(ime='Janez', kraj=nov_kraj)\n",
    "session.add(nova_oseba)\n",
    "session.commit()"
   ]
  },
  {
   "cell_type": "markdown",
   "metadata": {},
   "source": [
    "Izvedimo poizvedbo `SELECT * FROM oseba`."
   ]
  },
  {
   "cell_type": "code",
   "execution_count": 10,
   "metadata": {},
   "outputs": [
    {
     "name": "stdout",
     "output_type": "stream",
     "text": [
      "2025-06-05 10:29:22,518 INFO sqlalchemy.engine.Engine BEGIN (implicit)\n",
      "2025-06-05 10:29:22,520 INFO sqlalchemy.engine.Engine SELECT oseba.id AS oseba_id, oseba.ime AS oseba_ime, oseba.kraj_id AS oseba_kraj_id \n",
      "FROM oseba\n",
      "2025-06-05 10:29:22,521 INFO sqlalchemy.engine.Engine [generated in 0.00096s] ()\n"
     ]
    },
    {
     "data": {
      "text/plain": [
       "[<__main__.Oseba at 0x78c870397980>]"
      ]
     },
     "execution_count": 10,
     "metadata": {},
     "output_type": "execute_result"
    }
   ],
   "source": [
    "session.query(Oseba).all()"
   ]
  },
  {
   "cell_type": "markdown",
   "metadata": {},
   "source": [
    "Vrnimo prvi kraj in ga izpišimo."
   ]
  },
  {
   "cell_type": "code",
   "execution_count": 11,
   "metadata": {},
   "outputs": [
    {
     "name": "stdout",
     "output_type": "stream",
     "text": [
      "2025-06-05 10:29:41,154 INFO sqlalchemy.engine.Engine SELECT kraj.posta AS kraj_posta, kraj.kraj AS kraj_kraj \n",
      "FROM kraj\n",
      " LIMIT ? OFFSET ?\n",
      "2025-06-05 10:29:41,155 INFO sqlalchemy.engine.Engine [generated in 0.00130s] (1, 0)\n",
      "<__main__.Kraj object at 0x78c872aa1100>\n",
      "KRAJ: Ljubljana\n"
     ]
    }
   ],
   "source": [
    "kraj1 = session.query(Kraj).first()\n",
    "print(kraj1)\n",
    "print(\"KRAJ:\", kraj1.kraj)"
   ]
  },
  {
   "cell_type": "markdown",
   "metadata": {},
   "source": [
    "Poiščimo vse osebe v kraju `kraj1` in jih izpišimo kot objekte."
   ]
  },
  {
   "cell_type": "code",
   "execution_count": 12,
   "metadata": {},
   "outputs": [
    {
     "name": "stdout",
     "output_type": "stream",
     "text": [
      "2025-06-05 10:30:53,518 INFO sqlalchemy.engine.Engine SELECT oseba.id AS oseba_id, oseba.ime AS oseba_ime, oseba.kraj_id AS oseba_kraj_id \n",
      "FROM oseba \n",
      "WHERE ? = oseba.kraj_id\n",
      "2025-06-05 10:30:53,519 INFO sqlalchemy.engine.Engine [generated in 0.00107s] (1000,)\n"
     ]
    },
    {
     "data": {
      "text/plain": [
       "[<__main__.Oseba at 0x78c870397980>]"
      ]
     },
     "execution_count": 12,
     "metadata": {},
     "output_type": "execute_result"
    }
   ],
   "source": [
    "session.query(Oseba).filter(Oseba.kraj == kraj1).all()"
   ]
  },
  {
   "cell_type": "markdown",
   "metadata": {},
   "source": [
    "Poiščimo eno tako osebo ter jo vrnimo in izpišimo."
   ]
  },
  {
   "cell_type": "code",
   "execution_count": 13,
   "metadata": {},
   "outputs": [
    {
     "name": "stdout",
     "output_type": "stream",
     "text": [
      "2025-06-05 10:31:23,067 INFO sqlalchemy.engine.Engine SELECT oseba.id AS oseba_id, oseba.ime AS oseba_ime, oseba.kraj_id AS oseba_kraj_id \n",
      "FROM oseba \n",
      "WHERE ? = oseba.kraj_id\n",
      "2025-06-05 10:31:23,068 INFO sqlalchemy.engine.Engine [cached since 29.55s ago] (1000,)\n",
      "<__main__.Oseba object at 0x78c870397980>\n",
      "IME: Janez\n",
      "KRAJ: <__main__.Kraj object at 0x78c872aa1100>\n"
     ]
    }
   ],
   "source": [
    "oseba1 = session.query(Oseba).filter(Oseba.kraj == kraj1).one()\n",
    "print(oseba1)\n",
    "print(\"IME:\", oseba1.ime)\n",
    "print(\"KRAJ:\", oseba1.kraj)"
   ]
  }
 ],
 "metadata": {
  "kernelspec": {
   "display_name": "Python 3 (ipykernel)",
   "language": "python",
   "name": "python3"
  },
  "language_info": {
   "codemirror_mode": {
    "name": "ipython",
    "version": 3
   },
   "file_extension": ".py",
   "mimetype": "text/x-python",
   "name": "python",
   "nbconvert_exporter": "python",
   "pygments_lexer": "ipython3",
   "version": "3.12.3"
  }
 },
 "nbformat": 4,
 "nbformat_minor": 4
}
