{
 "cells": [
  {
   "cell_type": "markdown",
   "metadata": {},
   "source": [
    "# Banka z SQLAlchemy\n",
    "\n",
    "Knjižnico `sqlalchemy` namestimo z ukazom\n",
    "```bash\n",
    "python -m pip install sqlalchemy\n",
    "```\n",
    "oziroma (če nimamo administratorskih pravic)\n",
    "```bash\n",
    "python -m pip install --user sqlalchemy\n",
    "```"
   ]
  },
  {
   "cell_type": "code",
   "execution_count": 1,
   "metadata": {},
   "outputs": [],
   "source": [
    "from sqlalchemy import Column, ForeignKey, Integer, String\n",
    "from sqlalchemy.orm import relationship, declarative_base, sessionmaker\n",
    "from sqlalchemy import create_engine"
   ]
  },
  {
   "cell_type": "markdown",
   "metadata": {},
   "source": [
    "Definirajmo naše razrede (entitetne tipe)."
   ]
  },
  {
   "cell_type": "code",
   "execution_count": 2,
   "metadata": {},
   "outputs": [],
   "source": [
    "Base = declarative_base()\n",
    "\n",
    "class Kraj(Base):\n",
    "    # Tako se bo imenavala tabela v bazi\n",
    "    __tablename__ = 'kraj'\n",
    "    \n",
    "    # Atributi (lastnosti), ki sledijo se preslikajo v stolpce\n",
    "    posta = Column(Integer, primary_key=True)\n",
    "    kraj = Column(String(250))\n",
    "\n",
    "class Oseba(Base):\n",
    "    __tablename__ = 'oseba'\n",
    "    \n",
    "    id = Column(Integer, primary_key=True)               # Primarni ključ\n",
    "    ime = Column(String(250), nullable=False)            # Ne sme biti NULL\n",
    "    kraj_id = Column(Integer, ForeignKey('kraj.posta')) # tuji ključ\n",
    "    # Lastnost, ki odraža povezavo do tabele kraj.\n",
    "    # Ker je enolično določena, ne rabimo dodatnih parametrov.\n",
    "    kraj = relationship(Kraj)"
   ]
  },
  {
   "cell_type": "markdown",
   "metadata": {},
   "source": [
    "Generirajmo podatkovno bazo v SQLite (datoteko `banka-orm.db`) oziroma se z njo povežimo, če datoteka že obstaja.\n",
    "\n",
    "Če želimo izpise stavkov SQL, nastavimo parameter `echo=True`. Tega v produkciji **ne** nastavimo."
   ]
  },
  {
   "cell_type": "code",
   "execution_count": 3,
   "metadata": {},
   "outputs": [],
   "source": [
    "engine = create_engine('sqlite:///banka-orm.db', echo=True)"
   ]
  },
  {
   "cell_type": "markdown",
   "metadata": {},
   "source": [
    "Povežimo `engine` na razred `Base`."
   ]
  },
  {
   "cell_type": "code",
   "execution_count": 4,
   "metadata": {},
   "outputs": [],
   "source": [
    "Base.metadata.bind = engine"
   ]
  },
  {
   "cell_type": "markdown",
   "metadata": {},
   "source": [
    "Tabele na bazi v tem trenutku še niso ustvarjene. Ustvarimo jih z naslednjim klicem."
   ]
  },
  {
   "cell_type": "code",
   "execution_count": 5,
   "metadata": {},
   "outputs": [
    {
     "name": "stdout",
     "output_type": "stream",
     "text": [
      "2024-05-13 17:22:47,667 INFO sqlalchemy.engine.Engine BEGIN (implicit)\n",
      "2024-05-13 17:22:47,668 INFO sqlalchemy.engine.Engine PRAGMA main.table_info(\"kraj\")\n",
      "2024-05-13 17:22:47,668 INFO sqlalchemy.engine.Engine [raw sql] ()\n",
      "2024-05-13 17:22:47,669 INFO sqlalchemy.engine.Engine PRAGMA temp.table_info(\"kraj\")\n",
      "2024-05-13 17:22:47,670 INFO sqlalchemy.engine.Engine [raw sql] ()\n",
      "2024-05-13 17:22:47,671 INFO sqlalchemy.engine.Engine PRAGMA main.table_info(\"oseba\")\n",
      "2024-05-13 17:22:47,671 INFO sqlalchemy.engine.Engine [raw sql] ()\n",
      "2024-05-13 17:22:47,672 INFO sqlalchemy.engine.Engine PRAGMA temp.table_info(\"oseba\")\n",
      "2024-05-13 17:22:47,673 INFO sqlalchemy.engine.Engine [raw sql] ()\n",
      "2024-05-13 17:22:47,674 INFO sqlalchemy.engine.Engine \n",
      "CREATE TABLE kraj (\n",
      "\tposta INTEGER NOT NULL, \n",
      "\tkraj VARCHAR(250), \n",
      "\tPRIMARY KEY (posta)\n",
      ")\n",
      "\n",
      "\n",
      "2024-05-13 17:22:47,675 INFO sqlalchemy.engine.Engine [no key 0.00063s] ()\n",
      "2024-05-13 17:22:47,688 INFO sqlalchemy.engine.Engine \n",
      "CREATE TABLE oseba (\n",
      "\tid INTEGER NOT NULL, \n",
      "\time VARCHAR(250) NOT NULL, \n",
      "\tkraj_id INTEGER, \n",
      "\tPRIMARY KEY (id), \n",
      "\tFOREIGN KEY(kraj_id) REFERENCES kraj (posta)\n",
      ")\n",
      "\n",
      "\n",
      "2024-05-13 17:22:47,688 INFO sqlalchemy.engine.Engine [no key 0.00075s] ()\n",
      "2024-05-13 17:22:47,696 INFO sqlalchemy.engine.Engine COMMIT\n"
     ]
    }
   ],
   "source": [
    "Base.metadata.create_all(engine)"
   ]
  },
  {
   "cell_type": "markdown",
   "metadata": {},
   "source": [
    "Odprimo generator sej in ustvarimo novo sejo."
   ]
  },
  {
   "cell_type": "code",
   "execution_count": 6,
   "metadata": {},
   "outputs": [],
   "source": [
    "DBSessionMaker = sessionmaker(bind=engine)\n",
    "session = DBSessionMaker()"
   ]
  },
  {
   "cell_type": "markdown",
   "metadata": {},
   "source": [
    "Ustvarimo nov objekt razreda `Kraj` in ga dodamo v sejo."
   ]
  },
  {
   "cell_type": "code",
   "execution_count": 7,
   "metadata": {},
   "outputs": [],
   "source": [
    "nov_kraj = Kraj(posta=1000, kraj='Ljubljana')\n",
    "session.add(nov_kraj)"
   ]
  },
  {
   "cell_type": "markdown",
   "metadata": {},
   "source": [
    "Metoda `commit` shrani (spremenjene) objekte v seji v podatkovno bazo."
   ]
  },
  {
   "cell_type": "code",
   "execution_count": 8,
   "metadata": {},
   "outputs": [
    {
     "name": "stdout",
     "output_type": "stream",
     "text": [
      "2024-05-13 17:25:58,420 INFO sqlalchemy.engine.Engine BEGIN (implicit)\n",
      "2024-05-13 17:25:58,423 INFO sqlalchemy.engine.Engine INSERT INTO kraj (posta, kraj) VALUES (?, ?)\n",
      "2024-05-13 17:25:58,423 INFO sqlalchemy.engine.Engine [generated in 0.00092s] (1000, 'Ljubljana')\n",
      "2024-05-13 17:25:58,425 INFO sqlalchemy.engine.Engine COMMIT\n"
     ]
    }
   ],
   "source": [
    "session.commit()"
   ]
  },
  {
   "cell_type": "markdown",
   "metadata": {},
   "source": [
    "Ustvarimo nov objekt razreda `Oseba` in ga preko lastnosti `kraj` povežemo s prej ustvarjenim krajem."
   ]
  },
  {
   "cell_type": "code",
   "execution_count": 9,
   "metadata": {},
   "outputs": [
    {
     "name": "stdout",
     "output_type": "stream",
     "text": [
      "2024-05-13 17:26:37,731 INFO sqlalchemy.engine.Engine BEGIN (implicit)\n",
      "2024-05-13 17:26:37,733 INFO sqlalchemy.engine.Engine SELECT kraj.posta AS kraj_posta, kraj.kraj AS kraj_kraj \n",
      "FROM kraj \n",
      "WHERE kraj.posta = ?\n",
      "2024-05-13 17:26:37,735 INFO sqlalchemy.engine.Engine [generated in 0.00137s] (1000,)\n",
      "2024-05-13 17:26:37,736 INFO sqlalchemy.engine.Engine INSERT INTO oseba (ime, kraj_id) VALUES (?, ?)\n",
      "2024-05-13 17:26:37,737 INFO sqlalchemy.engine.Engine [generated in 0.00057s] ('Janez', 1000)\n",
      "2024-05-13 17:26:37,738 INFO sqlalchemy.engine.Engine COMMIT\n"
     ]
    }
   ],
   "source": [
    "nova_oseba = Oseba(ime='Janez', kraj=nov_kraj)\n",
    "session.add(nova_oseba)\n",
    "session.commit()"
   ]
  },
  {
   "cell_type": "markdown",
   "metadata": {},
   "source": [
    "Izvedimo poizvedbo `SELECT * FROM oseba`."
   ]
  },
  {
   "cell_type": "code",
   "execution_count": 10,
   "metadata": {},
   "outputs": [
    {
     "name": "stdout",
     "output_type": "stream",
     "text": [
      "2024-05-13 17:27:47,327 INFO sqlalchemy.engine.Engine BEGIN (implicit)\n",
      "2024-05-13 17:27:47,330 INFO sqlalchemy.engine.Engine SELECT oseba.id AS oseba_id, oseba.ime AS oseba_ime, oseba.kraj_id AS oseba_kraj_id \n",
      "FROM oseba\n",
      "2024-05-13 17:27:47,331 INFO sqlalchemy.engine.Engine [generated in 0.00101s] ()\n"
     ]
    },
    {
     "data": {
      "text/plain": [
       "[<__main__.Oseba at 0x7f9cfd027580>]"
      ]
     },
     "execution_count": 10,
     "metadata": {},
     "output_type": "execute_result"
    }
   ],
   "source": [
    "session.query(Oseba).all()"
   ]
  },
  {
   "cell_type": "markdown",
   "metadata": {},
   "source": [
    "Vrnimo prvi kraj in ga izpišimo."
   ]
  },
  {
   "cell_type": "code",
   "execution_count": 11,
   "metadata": {},
   "outputs": [
    {
     "name": "stdout",
     "output_type": "stream",
     "text": [
      "2024-05-13 17:28:08,367 INFO sqlalchemy.engine.Engine SELECT kraj.posta AS kraj_posta, kraj.kraj AS kraj_kraj \n",
      "FROM kraj\n",
      " LIMIT ? OFFSET ?\n",
      "2024-05-13 17:28:08,368 INFO sqlalchemy.engine.Engine [generated in 0.00148s] (1, 0)\n",
      "<__main__.Kraj object at 0x7f9cfd047580>\n",
      "KRAJ: Ljubljana\n"
     ]
    }
   ],
   "source": [
    "kraj1 = session.query(Kraj).first()\n",
    "print(kraj1)\n",
    "print(\"KRAJ:\", kraj1.kraj)"
   ]
  },
  {
   "cell_type": "markdown",
   "metadata": {},
   "source": [
    "Poiščimo vse osebe v kraju `kraj1` in jih izpišimo kot objekte."
   ]
  },
  {
   "cell_type": "code",
   "execution_count": 12,
   "metadata": {},
   "outputs": [
    {
     "name": "stdout",
     "output_type": "stream",
     "text": [
      "2024-05-13 17:28:51,085 INFO sqlalchemy.engine.Engine SELECT oseba.id AS oseba_id, oseba.ime AS oseba_ime, oseba.kraj_id AS oseba_kraj_id \n",
      "FROM oseba \n",
      "WHERE ? = oseba.kraj_id\n",
      "2024-05-13 17:28:51,087 INFO sqlalchemy.engine.Engine [generated in 0.00173s] (1000,)\n"
     ]
    },
    {
     "data": {
      "text/plain": [
       "[<__main__.Oseba at 0x7f9cfd027580>]"
      ]
     },
     "execution_count": 12,
     "metadata": {},
     "output_type": "execute_result"
    }
   ],
   "source": [
    "session.query(Oseba).filter(Oseba.kraj == kraj1).all()"
   ]
  },
  {
   "cell_type": "markdown",
   "metadata": {},
   "source": [
    "Poiščimo eno tako osebo ter jo vrnimo in izpišimo."
   ]
  },
  {
   "cell_type": "code",
   "execution_count": 16,
   "metadata": {},
   "outputs": [
    {
     "name": "stdout",
     "output_type": "stream",
     "text": [
      "2024-05-13 17:32:09,968 INFO sqlalchemy.engine.Engine SELECT oseba.id AS oseba_id, oseba.ime AS oseba_ime, oseba.kraj_id AS oseba_kraj_id \n",
      "FROM oseba \n",
      "WHERE ? = oseba.kraj_id\n",
      "2024-05-13 17:32:09,969 INFO sqlalchemy.engine.Engine [cached since 198.9s ago] (1000,)\n",
      "<__main__.Oseba object at 0x7f9cfd027580>\n",
      "IME: Janez\n",
      "KRAJ: <__main__.Kraj object at 0x7f9cfd047580>\n"
     ]
    }
   ],
   "source": [
    "oseba1 = session.query(Oseba).filter(Oseba.kraj == kraj1).one()\n",
    "print(oseba1)\n",
    "print(\"IME:\", oseba1.ime)\n",
    "print(\"KRAJ:\", oseba1.kraj)"
   ]
  }
 ],
 "metadata": {
  "kernelspec": {
   "display_name": "Python 3",
   "language": "python",
   "name": "python3"
  },
  "language_info": {
   "codemirror_mode": {
    "name": "ipython",
    "version": 3
   },
   "file_extension": ".py",
   "mimetype": "text/x-python",
   "name": "python",
   "nbconvert_exporter": "python",
   "pygments_lexer": "ipython3",
   "version": "3.8.10"
  }
 },
 "nbformat": 4,
 "nbformat_minor": 4
}
