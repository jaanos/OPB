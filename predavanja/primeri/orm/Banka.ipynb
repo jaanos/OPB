{
 "cells": [
  {
   "cell_type": "markdown",
   "metadata": {},
   "source": [
    "# Banka z SQLAlchemy\n",
    "\n",
    "Knjižnico `sqlalchemy` namestimo z ukazom\n",
    "```bash\n",
    "python -m pip install sqlalchemy\n",
    "```\n",
    "oziroma (če nimamo administratorskih pravic)\n",
    "```bash\n",
    "python -m pip install --user sqlalchemy\n",
    "```"
   ]
  },
  {
   "cell_type": "code",
   "execution_count": null,
   "metadata": {},
   "outputs": [],
   "source": [
    "from sqlalchemy import Column, ForeignKey, Integer, String\n",
    "from sqlalchemy.orm import relationship, declarative_base, sessionmaker\n",
    "from sqlalchemy import create_engine"
   ]
  },
  {
   "cell_type": "markdown",
   "metadata": {},
   "source": [
    "Definirajmo naše razrede (entitetne tipe)."
   ]
  },
  {
   "cell_type": "code",
   "execution_count": null,
   "metadata": {},
   "outputs": [],
   "source": [
    "Base = declarative_base()\n",
    "\n",
    "class Kraj(Base):\n",
    "    # Tako se bo imenavala tabela v bazi\n",
    "    __tablename__ = 'kraj'\n",
    "    \n",
    "    # Atributi (lastnosti), ki sledijo se preslikajo v stolpce\n",
    "    posta = Column(Integer, primary_key=True)\n",
    "    kraj = Column(String(250))\n",
    "\n",
    "class Oseba(Base):\n",
    "    __tablename__ = 'oseba'\n",
    "    \n",
    "    id = Column(Integer, primary_key=True)               # Primarni ključ\n",
    "    ime = Column(String(250), nullable=False)            # Ne sme biti NULL\n",
    "    kraj_id = Column(Integer, ForeignKey('kraj.posta')) # tuji ključ\n",
    "    # Lastnost, ki odraža povezavo do tabele kraj.\n",
    "    # Ker je enolično določena, ne rabimo dodatnih parametrov.\n",
    "    kraj = relationship(Kraj)"
   ]
  },
  {
   "cell_type": "markdown",
   "metadata": {},
   "source": [
    "Generirajmo podatkovno bazo v SQLite (datoteko `banka-orm.db`) oziroma se z njo povežimo, če datoteka že obstaja.\n",
    "\n",
    "Če želimo izpise stavkov SQL, nastavimo parameter `echo=True`. Tega v produkciji **ne** nastavimo."
   ]
  },
  {
   "cell_type": "code",
   "execution_count": null,
   "metadata": {},
   "outputs": [],
   "source": [
    "engine = create_engine('sqlite:///banka-orm.db', echo=True)"
   ]
  },
  {
   "cell_type": "markdown",
   "metadata": {},
   "source": [
    "Povežimo `engine` na razred `Base`."
   ]
  },
  {
   "cell_type": "code",
   "execution_count": null,
   "metadata": {},
   "outputs": [],
   "source": [
    "Base.metadata.bind = engine"
   ]
  },
  {
   "cell_type": "markdown",
   "metadata": {},
   "source": [
    "Tabele na bazi v tem trenutku še niso ustvarjene. Ustvarimo jih z naslednjim klicem."
   ]
  },
  {
   "cell_type": "code",
   "execution_count": null,
   "metadata": {},
   "outputs": [],
   "source": [
    "Base.metadata.create_all(engine)"
   ]
  },
  {
   "cell_type": "markdown",
   "metadata": {},
   "source": [
    "Odprimo generator sej in ustvarimo novo sejo."
   ]
  },
  {
   "cell_type": "code",
   "execution_count": null,
   "metadata": {},
   "outputs": [],
   "source": [
    "DBSessionMaker = sessionmaker(bind=engine)\n",
    "session = DBSessionMaker()"
   ]
  },
  {
   "cell_type": "markdown",
   "metadata": {},
   "source": [
    "Ustvarimo nov objekt razreda `Kraj` in ga dodamo v sejo."
   ]
  },
  {
   "cell_type": "code",
   "execution_count": null,
   "metadata": {},
   "outputs": [],
   "source": [
    "nov_kraj = Kraj(posta=1000, kraj='Ljubljana')\n",
    "session.add(nov_kraj)"
   ]
  },
  {
   "cell_type": "markdown",
   "metadata": {},
   "source": [
    "Metoda `commit` shrani (spremenjene) objekte v seji v podatkovno bazo."
   ]
  },
  {
   "cell_type": "code",
   "execution_count": null,
   "metadata": {},
   "outputs": [],
   "source": [
    "session.commit()"
   ]
  },
  {
   "cell_type": "markdown",
   "metadata": {},
   "source": [
    "Ustvarimo nov objekt razreda `Oseba` in ga preko lastnosti `kraj` povežemo s prej ustvarjenim krajem."
   ]
  },
  {
   "cell_type": "code",
   "execution_count": null,
   "metadata": {},
   "outputs": [],
   "source": [
    "nova_oseba = Oseba(ime='Janez', kraj=nov_kraj)\n",
    "session.add(nova_oseba)\n",
    "session.commit()"
   ]
  },
  {
   "cell_type": "markdown",
   "metadata": {},
   "source": [
    "Izvedimo poizvedbo `SELECT * FROM oseba`."
   ]
  },
  {
   "cell_type": "code",
   "execution_count": null,
   "metadata": {},
   "outputs": [],
   "source": [
    "session.query(Oseba).all()"
   ]
  },
  {
   "cell_type": "markdown",
   "metadata": {},
   "source": [
    "Vrnimo prvi kraj in ga izpišimo."
   ]
  },
  {
   "cell_type": "code",
   "execution_count": null,
   "metadata": {},
   "outputs": [],
   "source": [
    "kraj1 = session.query(Kraj).first()\n",
    "print(kraj1)\n",
    "print(\"KRAJ:\", kraj1.kraj)"
   ]
  },
  {
   "cell_type": "markdown",
   "metadata": {},
   "source": [
    "Poiščimo vse osebe v kraju `kraj1` in jih izpišimo kot objekte."
   ]
  },
  {
   "cell_type": "code",
   "execution_count": null,
   "metadata": {},
   "outputs": [],
   "source": [
    "session.query(Oseba).filter(Oseba.kraj == kraj1).all()"
   ]
  },
  {
   "cell_type": "markdown",
   "metadata": {},
   "source": [
    "Poiščimo eno tako osebo ter jo vrnimo in izpišimo."
   ]
  },
  {
   "cell_type": "code",
   "execution_count": null,
   "metadata": {},
   "outputs": [],
   "source": [
    "oseba1 = session.query(Oseba).filter(Oseba.kraj == kraj1).one()\n",
    "print(oseba1)\n",
    "print(\"IME:\", oseba1.ime)\n",
    "print(\"KRAJ:\", oseba1.kraj)"
   ]
  }
 ],
 "metadata": {
  "kernelspec": {
   "display_name": "Python 3",
   "language": "python",
   "name": "python3"
  },
  "language_info": {
   "codemirror_mode": {
    "name": "ipython",
    "version": 3
   },
   "file_extension": ".py",
   "mimetype": "text/x-python",
   "name": "python",
   "nbconvert_exporter": "python",
   "pygments_lexer": "ipython3",
   "version": "3.12.3"
  }
 },
 "nbformat": 4,
 "nbformat_minor": 4
}
