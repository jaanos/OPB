{
 "cells": [
  {
   "cell_type": "markdown",
   "metadata": {},
   "source": [
    "# Uporaba PostgreSQL v Pythonu s knjižnico `psycopg`"
   ]
  },
  {
   "cell_type": "markdown",
   "metadata": {},
   "source": [
    "## Nameščanje knjižnice `psycopg`\n",
    "\n",
    "Namestitev izvedemo iz ukazne vrstice. Če nimamo administrativnih pravic na racunalniku, izvedemo:\n",
    "\n",
    "```bash\n",
    "python -m pip install --user psycopg[binary]\n",
    "```\n",
    "\n",
    "\n",
    "Če jih imamo:\n",
    "```bash\n",
    "python -m pip install psycopg[binary]\n",
    "```\n",
    "\n",
    "**Pozor:** za uporabo tega programa moramo imeti dostop do podatkovne baze PostgreSQL s pravico ustvarjanja tabel. Bazo PostgreSQL si lahko namestimo na svojem racunalniku in v datoteki `auth.py` nastavimo ustrezne podatke za dostop."
   ]
  },
  {
   "cell_type": "code",
   "execution_count": 1,
   "metadata": {},
   "outputs": [],
   "source": [
    "import psycopg\n",
    "from auth import auth"
   ]
  },
  {
   "cell_type": "markdown",
   "metadata": {},
   "source": [
    "Ustvarimo tabelo in jo napolnimo. Ker smo povezavo odprli s stavkom `with`, se bodo vse poizvedbe znotraj njega izvedle v eni transakciji - ob uspešnem izvajanju se bo ta potrdila, ob napaki pa preklicala. V vsakem primeru se bo povezava potem zaprla.\n",
    "\n",
    "Tudi kurzor lahko odpremo s stavkom `with`, da se po koncu izvajanja zapre."
   ]
  },
  {
   "cell_type": "code",
   "execution_count": 2,
   "metadata": {},
   "outputs": [],
   "source": [
    "with psycopg.connect(**auth) as con:\n",
    "    with con.cursor() as cur:   # \"odzivnik\" za pregledovanje poizvedbe\n",
    "        cur.execute(\"DROP TABLE IF EXISTS Cars\")\n",
    "        cur.execute(\"CREATE TABLE Cars(Id INTEGER PRIMARY KEY, Name TEXT, Price INTEGER)\")\n",
    "        cur.execute(\"INSERT INTO Cars VALUES (1, 'Audi', 52642)\")\n",
    "        cur.execute(\"INSERT INTO Cars VALUES (2, 'Mercedes', 57127)\")\n",
    "        cur.execute(\"INSERT INTO Cars VALUES (3, 'Skoda', 9000)\")\n",
    "        cur.execute(\"INSERT INTO Cars VALUES (4, 'Volvo', 29000)\")\n",
    "        cur.execute(\"INSERT INTO Cars VALUES (5, 'Bentley', 350000)\")\n",
    "        cur.execute(\"INSERT INTO Cars VALUES (6, 'Citroen', 21000)\")\n",
    "        cur.execute(\"INSERT INTO Cars VALUES (7, 'Hummer', 41400)\")\n",
    "        cur.execute(\"INSERT INTO Cars VALUES (8, 'Volkswagen', 21600)\")"
   ]
  },
  {
   "cell_type": "markdown",
   "metadata": {},
   "source": [
    "Povezavo si lahko tudi shranimo in večkrat uporabimo. Parameter `autocommit=True` pri vzpostavljanju povezave določa, naj se vsaka poizvedba, ki je eksplicitno ne vključimo v transakcijo, takoj potrdi."
   ]
  },
  {
   "cell_type": "code",
   "execution_count": 3,
   "metadata": {},
   "outputs": [],
   "source": [
    "con = psycopg.connect(**auth, autocommit=True)"
   ]
  },
  {
   "cell_type": "markdown",
   "metadata": {},
   "source": [
    "Primer: Katere vrstice so v tabeli?"
   ]
  },
  {
   "cell_type": "code",
   "execution_count": 26,
   "metadata": {},
   "outputs": [
    {
     "ename": "OperationalError",
     "evalue": "the connection is closed",
     "output_type": "error",
     "traceback": [
      "\u001b[0;31m---------------------------------------------------------------------------\u001b[0m",
      "\u001b[0;31mOperationalError\u001b[0m                          Traceback (most recent call last)",
      "\u001b[0;32m<ipython-input-26-763ee1977e49>\u001b[0m in \u001b[0;36m<module>\u001b[0;34m\u001b[0m\n\u001b[0;32m----> 1\u001b[0;31m \u001b[0mcur1\u001b[0m \u001b[0;34m=\u001b[0m \u001b[0mcon\u001b[0m\u001b[0;34m.\u001b[0m\u001b[0mcursor\u001b[0m\u001b[0;34m(\u001b[0m\u001b[0;34m)\u001b[0m\u001b[0;34m\u001b[0m\u001b[0;34m\u001b[0m\u001b[0m\n\u001b[0m\u001b[1;32m      2\u001b[0m \u001b[0mcur1\u001b[0m\u001b[0;34m.\u001b[0m\u001b[0mexecute\u001b[0m\u001b[0;34m(\u001b[0m\u001b[0;34m\"SELECT * from Cars\"\u001b[0m\u001b[0;34m)\u001b[0m\u001b[0;34m\u001b[0m\u001b[0;34m\u001b[0m\u001b[0m\n\u001b[1;32m      3\u001b[0m \u001b[0mprint\u001b[0m\u001b[0;34m(\u001b[0m\u001b[0mcur1\u001b[0m\u001b[0;34m.\u001b[0m\u001b[0mfetchall\u001b[0m\u001b[0;34m(\u001b[0m\u001b[0;34m)\u001b[0m\u001b[0;34m)\u001b[0m\u001b[0;34m\u001b[0m\u001b[0;34m\u001b[0m\u001b[0m\n",
      "\u001b[0;32m/usr/local/lib/python3.8/dist-packages/psycopg/connection.py\u001b[0m in \u001b[0;36mcursor\u001b[0;34m(self, name, binary, row_factory, scrollable, withhold)\u001b[0m\n\u001b[1;32m    838\u001b[0m         \u001b[0mReturn\u001b[0m \u001b[0ma\u001b[0m \u001b[0mnew\u001b[0m \u001b[0mcursor\u001b[0m \u001b[0mto\u001b[0m \u001b[0msend\u001b[0m \u001b[0mcommands\u001b[0m \u001b[0;32mand\u001b[0m \u001b[0mqueries\u001b[0m \u001b[0mto\u001b[0m \u001b[0mthe\u001b[0m \u001b[0mconnection\u001b[0m\u001b[0;34m.\u001b[0m\u001b[0;34m\u001b[0m\u001b[0;34m\u001b[0m\u001b[0m\n\u001b[1;32m    839\u001b[0m         \"\"\"\n\u001b[0;32m--> 840\u001b[0;31m         \u001b[0mself\u001b[0m\u001b[0;34m.\u001b[0m\u001b[0m_check_connection_ok\u001b[0m\u001b[0;34m(\u001b[0m\u001b[0;34m)\u001b[0m\u001b[0;34m\u001b[0m\u001b[0;34m\u001b[0m\u001b[0m\n\u001b[0m\u001b[1;32m    841\u001b[0m \u001b[0;34m\u001b[0m\u001b[0m\n\u001b[1;32m    842\u001b[0m         \u001b[0;32mif\u001b[0m \u001b[0;32mnot\u001b[0m \u001b[0mrow_factory\u001b[0m\u001b[0;34m:\u001b[0m\u001b[0;34m\u001b[0m\u001b[0;34m\u001b[0m\u001b[0m\n",
      "\u001b[0;32m/usr/local/lib/python3.8/dist-packages/psycopg/connection.py\u001b[0m in \u001b[0;36m_check_connection_ok\u001b[0;34m(self)\u001b[0m\n\u001b[1;32m    477\u001b[0m \u001b[0;34m\u001b[0m\u001b[0m\n\u001b[1;32m    478\u001b[0m         \u001b[0;32mif\u001b[0m \u001b[0mself\u001b[0m\u001b[0;34m.\u001b[0m\u001b[0mpgconn\u001b[0m\u001b[0;34m.\u001b[0m\u001b[0mstatus\u001b[0m \u001b[0;34m==\u001b[0m \u001b[0mBAD\u001b[0m\u001b[0;34m:\u001b[0m\u001b[0;34m\u001b[0m\u001b[0;34m\u001b[0m\u001b[0m\n\u001b[0;32m--> 479\u001b[0;31m             \u001b[0;32mraise\u001b[0m \u001b[0me\u001b[0m\u001b[0;34m.\u001b[0m\u001b[0mOperationalError\u001b[0m\u001b[0;34m(\u001b[0m\u001b[0;34m\"the connection is closed\"\u001b[0m\u001b[0;34m)\u001b[0m\u001b[0;34m\u001b[0m\u001b[0;34m\u001b[0m\u001b[0m\n\u001b[0m\u001b[1;32m    480\u001b[0m         raise e.InterfaceError(\n\u001b[1;32m    481\u001b[0m             \u001b[0;34m\"cannot execute operations: the connection is\"\u001b[0m\u001b[0;34m\u001b[0m\u001b[0;34m\u001b[0m\u001b[0m\n",
      "\u001b[0;31mOperationalError\u001b[0m: the connection is closed"
     ]
    }
   ],
   "source": [
    "cur1 = con.cursor()\n",
    "cur1.execute(\"SELECT * from Cars\")\n",
    "print(cur1.fetchall())"
   ]
  },
  {
   "cell_type": "markdown",
   "metadata": {},
   "source": [
    "Ko kurzor enkrat vrne podatke, se \"izčrpa\"."
   ]
  },
  {
   "cell_type": "code",
   "execution_count": 5,
   "metadata": {},
   "outputs": [
    {
     "data": {
      "text/plain": [
       "[]"
      ]
     },
     "execution_count": 5,
     "metadata": {},
     "output_type": "execute_result"
    }
   ],
   "source": [
    "cur1.fetchall()"
   ]
  },
  {
   "cell_type": "markdown",
   "metadata": {},
   "source": [
    "Z `with con.transaction()` naredimo transakcijo - ob uspešnem koncu se potrdi, sicer bi se preklicala."
   ]
  },
  {
   "cell_type": "code",
   "execution_count": 6,
   "metadata": {},
   "outputs": [
    {
     "ename": "UniqueViolation",
     "evalue": "duplicate key value violates unique constraint \"cars_pkey\"\nDETAIL:  Key (id)=(9) already exists.",
     "output_type": "error",
     "traceback": [
      "\u001b[0;31m---------------------------------------------------------------------------\u001b[0m",
      "\u001b[0;31mUniqueViolation\u001b[0m                           Traceback (most recent call last)",
      "\u001b[0;32m<ipython-input-6-076e4fcb13d4>\u001b[0m in \u001b[0;36m<module>\u001b[0;34m\u001b[0m\n\u001b[1;32m      1\u001b[0m \u001b[0;32mwith\u001b[0m \u001b[0mcon\u001b[0m\u001b[0;34m.\u001b[0m\u001b[0mtransaction\u001b[0m\u001b[0;34m(\u001b[0m\u001b[0;34m)\u001b[0m\u001b[0;34m:\u001b[0m\u001b[0;34m\u001b[0m\u001b[0;34m\u001b[0m\u001b[0m\n\u001b[1;32m      2\u001b[0m     \u001b[0mcur1\u001b[0m\u001b[0;34m.\u001b[0m\u001b[0mexecute\u001b[0m\u001b[0;34m(\u001b[0m\u001b[0;34m\"INSERT INTO Cars VALUES (9, 'Hyundai', 19200)\"\u001b[0m\u001b[0;34m)\u001b[0m\u001b[0;34m\u001b[0m\u001b[0;34m\u001b[0m\u001b[0m\n\u001b[0;32m----> 3\u001b[0;31m     \u001b[0mcur1\u001b[0m\u001b[0;34m.\u001b[0m\u001b[0mexecute\u001b[0m\u001b[0;34m(\u001b[0m\u001b[0;34m\"INSERT INTO Cars VALUES (9, 'Ferrari', 192000)\"\u001b[0m\u001b[0;34m)\u001b[0m\u001b[0;34m\u001b[0m\u001b[0;34m\u001b[0m\u001b[0m\n\u001b[0m",
      "\u001b[0;32m/usr/local/lib/python3.8/dist-packages/psycopg/cursor.py\u001b[0m in \u001b[0;36mexecute\u001b[0;34m(self, query, params, prepare, binary)\u001b[0m\n\u001b[1;32m    721\u001b[0m                 )\n\u001b[1;32m    722\u001b[0m         \u001b[0;32mexcept\u001b[0m \u001b[0me\u001b[0m\u001b[0;34m.\u001b[0m\u001b[0m_NO_TRACEBACK\u001b[0m \u001b[0;32mas\u001b[0m \u001b[0mex\u001b[0m\u001b[0;34m:\u001b[0m\u001b[0;34m\u001b[0m\u001b[0;34m\u001b[0m\u001b[0m\n\u001b[0;32m--> 723\u001b[0;31m             \u001b[0;32mraise\u001b[0m \u001b[0mex\u001b[0m\u001b[0;34m.\u001b[0m\u001b[0mwith_traceback\u001b[0m\u001b[0;34m(\u001b[0m\u001b[0;32mNone\u001b[0m\u001b[0;34m)\u001b[0m\u001b[0;34m\u001b[0m\u001b[0;34m\u001b[0m\u001b[0m\n\u001b[0m\u001b[1;32m    724\u001b[0m         \u001b[0;32mreturn\u001b[0m \u001b[0mself\u001b[0m\u001b[0;34m\u001b[0m\u001b[0;34m\u001b[0m\u001b[0m\n\u001b[1;32m    725\u001b[0m \u001b[0;34m\u001b[0m\u001b[0m\n",
      "\u001b[0;31mUniqueViolation\u001b[0m: duplicate key value violates unique constraint \"cars_pkey\"\nDETAIL:  Key (id)=(9) already exists."
     ]
    }
   ],
   "source": [
    "with con.transaction():\n",
    "    cur1.execute(\"INSERT INTO Cars VALUES (9, 'Hyundai', 19200)\")\n",
    "    cur1.execute(\"INSERT INTO Cars VALUES (9, 'Ferrari', 192000)\")"
   ]
  },
  {
   "cell_type": "code",
   "execution_count": 8,
   "metadata": {},
   "outputs": [],
   "source": [
    "with con.transaction():\n",
    "    cur1.execute(\"INSERT INTO Cars VALUES (10, 'Ferrari', 192000)\")\n",
    "    cur1.execute(\"INSERT INTO Cars VALUES (11, 'Lamborghini', 400000)\")"
   ]
  },
  {
   "cell_type": "markdown",
   "metadata": {},
   "source": [
    "Transakcije lahko potrjujemo in preklicujemo tudi sami z metodama `con.commit()` oziroma `con.rollback()`."
   ]
  },
  {
   "cell_type": "code",
   "execution_count": 9,
   "metadata": {},
   "outputs": [],
   "source": [
    "con2 = psycopg.connect(**auth) # uporabimo novo povezavo brez autocommit"
   ]
  },
  {
   "cell_type": "code",
   "execution_count": 15,
   "metadata": {},
   "outputs": [],
   "source": [
    "with con2.cursor() as cur2:\n",
    "    cur2.execute(\"INSERT INTO Cars VALUES (9, 'Hyundai', 19200)\")"
   ]
  },
  {
   "cell_type": "code",
   "execution_count": 16,
   "metadata": {},
   "outputs": [
    {
     "name": "stdout",
     "output_type": "stream",
     "text": [
      "[(1, 'Audi', 52642), (2, 'Mercedes', 57127), (3, 'Skoda', 9000), (4, 'Volvo', 29000), (5, 'Bentley', 350000), (6, 'Citroen', 21000), (7, 'Hummer', 41400), (8, 'Volkswagen', 21600), (10, 'Ferrari', 192000), (11, 'Lamborghini', 400000), (9, 'Hyundai', 19200)]\n"
     ]
    }
   ],
   "source": [
    "with con2.cursor() as cur2:\n",
    "    cur2.execute(\"SELECT * from Cars\")\n",
    "    print(cur2.fetchall())"
   ]
  },
  {
   "cell_type": "code",
   "execution_count": 13,
   "metadata": {},
   "outputs": [],
   "source": [
    "con2.rollback()"
   ]
  },
  {
   "cell_type": "code",
   "execution_count": 18,
   "metadata": {},
   "outputs": [],
   "source": [
    "con2.commit()"
   ]
  },
  {
   "cell_type": "markdown",
   "metadata": {},
   "source": [
    "Primer: Poizvedba z iteracijo po 'odzivniku'."
   ]
  },
  {
   "cell_type": "code",
   "execution_count": 20,
   "metadata": {},
   "outputs": [
    {
     "name": "stdout",
     "output_type": "stream",
     "text": [
      "(1, 'Audi', 52642)\n",
      "(2, 'Mercedes', 57127)\n",
      "(3, 'Skoda', 9000)\n",
      "(4, 'Volvo', 29000)\n",
      "(5, 'Bentley', 350000)\n",
      "(6, 'Citroen', 21000)\n",
      "(7, 'Hummer', 41400)\n",
      "(8, 'Volkswagen', 21600)\n",
      "(10, 'Ferrari', 192000)\n",
      "(11, 'Lamborghini', 400000)\n",
      "(9, 'Hyundai', 19200)\n"
     ]
    }
   ],
   "source": [
    "with con.cursor() as cur:\n",
    "    cur.execute(\"SELECT * from Cars\")\n",
    "    for podatek in cur:\n",
    "        print(podatek)"
   ]
  },
  {
   "cell_type": "markdown",
   "metadata": {},
   "source": [
    "Primer interaktivne poizvedbe,  uporaba niza `%s`."
   ]
  },
  {
   "cell_type": "code",
   "execution_count": 21,
   "metadata": {},
   "outputs": [
    {
     "name": "stdout",
     "output_type": "stream",
     "text": [
      "Cena katerega vozila te zanima:Hummer\n",
      "[('Hummer', 41400)]\n"
     ]
    }
   ],
   "source": [
    "with con.cursor() as cur:\n",
    "    kaj = input(\"Cena katerega vozila te zanima:\")\n",
    "    cur.execute(\"SELECT Name, Price FROM Cars WHERE Name LIKE %s\", (kaj,))\n",
    "    print(cur.fetchall())"
   ]
  },
  {
   "cell_type": "markdown",
   "metadata": {},
   "source": [
    "Primer interaktivne poizvedbe, uporaba `%(ključ)s`, preverjanje rezultata."
   ]
  },
  {
   "cell_type": "code",
   "execution_count": 22,
   "metadata": {},
   "outputs": [
    {
     "name": "stdout",
     "output_type": "stream",
     "text": [
      "Katero vozilo te zanima:Ferrari\n",
      "Cena vozila Ferrari je 192000.\n"
     ]
    }
   ],
   "source": [
    "with con.cursor() as cur:\n",
    "    kaj = input(\"Katero vozilo te zanima:\").strip()\n",
    "    cur.execute(\"SELECT Price FROM Cars WHERE Name LIKE %(ime)s\", {\"ime\": kaj})\n",
    "    rez = cur.fetchone()\n",
    "    if rez is None:\n",
    "        print(\"Ni takega vozila ({0}).\".format(kaj))\n",
    "    else:\n",
    "        print(\"Cena vozila {0} je {1}.\".format(kaj, rez[0]))"
   ]
  },
  {
   "cell_type": "markdown",
   "metadata": {},
   "source": [
    "Primer: večkratno vstavljanje."
   ]
  },
  {
   "cell_type": "code",
   "execution_count": 24,
   "metadata": {},
   "outputs": [
    {
     "name": "stdout",
     "output_type": "stream",
     "text": [
      "Vstavljamo:  [(12, 'Audi2', 52643), (13, 'MercedesX', 57642), (14, 'Škoda', 9000), (15, 'Volvek', 29000), (16, 'Bentley7', 350000), (17, 'HummerU', 41400), (18, 'VolkswagenPassat', 21600)]\n",
      "V tabeli imamo:\n",
      "[(1, 'Audi', 52642), (2, 'Mercedes', 57127), (3, 'Skoda', 9000), (4, 'Volvo', 29000), (5, 'Bentley', 350000), (6, 'Citroen', 21000), (7, 'Hummer', 41400), (8, 'Volkswagen', 21600), (10, 'Ferrari', 192000), (11, 'Lamborghini', 400000), (9, 'Hyundai', 19200), (12, 'Audi2', 52643), (13, 'MercedesX', 57642), (14, 'Škoda', 9000), (15, 'Volvek', 29000), (16, 'Bentley7', 350000), (17, 'HummerU', 41400), (18, 'VolkswagenPassat', 21600)]\n"
     ]
    }
   ],
   "source": [
    "cars = [\n",
    "    (12, 'Audi2', 52643),\n",
    "    (13, 'MercedesX', 57642),\n",
    "    (14, 'Škoda', 9000),\n",
    "    (15, 'Volvek', 29000),\n",
    "    (16, 'Bentley7', 350000),\n",
    "    (17, 'HummerU', 41400),\n",
    "    (18, 'VolkswagenPassat', 21600)\n",
    "]\n",
    "print(\"Vstavljamo: \", cars)\n",
    "with con.cursor() as cur:\n",
    "    cur.executemany(\"INSERT INTO Cars VALUES (%s, %s, %s)\", cars)\n",
    "    cur.execute(\"SELECT * from Cars\")\n",
    "    print(\"V tabeli imamo:\")\n",
    "    print(cur.fetchall())"
   ]
  },
  {
   "cell_type": "markdown",
   "metadata": {},
   "source": [
    "Ko povezav in kurzorjev več ne potrebujemo, jih zapremo."
   ]
  },
  {
   "cell_type": "code",
   "execution_count": 25,
   "metadata": {},
   "outputs": [],
   "source": [
    "cur1.close()\n",
    "con.close()\n",
    "con2.close()"
   ]
  }
 ],
 "metadata": {
  "kernelspec": {
   "display_name": "Python 3",
   "language": "python",
   "name": "python3"
  },
  "language_info": {
   "codemirror_mode": {
    "name": "ipython",
    "version": 3
   },
   "file_extension": ".py",
   "mimetype": "text/x-python",
   "name": "python",
   "nbconvert_exporter": "python",
   "pygments_lexer": "ipython3",
   "version": "3.8.10"
  }
 },
 "nbformat": 4,
 "nbformat_minor": 2
}
