{
 "cells": [
  {
   "cell_type": "markdown",
   "metadata": {},
   "source": [
    "# Uporaba PostgreSQL v Pythonu s knjižnico `psycopg`"
   ]
  },
  {
   "cell_type": "markdown",
   "metadata": {},
   "source": [
    "## Nameščanje knjižnice `psycopg`\n",
    "\n",
    "Namestitev izvedemo iz ukazne vrstice. Če nimamo administrativnih pravic na racunalniku, izvedemo:\n",
    "\n",
    "```bash\n",
    "python -m pip install --user psycopg[binary]\n",
    "```\n",
    "\n",
    "\n",
    "Če jih imamo:\n",
    "```bash\n",
    "python -m pip install psycopg[binary]\n",
    "```\n",
    "\n",
    "**Pozor:** za uporabo tega programa moramo imeti dostop do podatkovne baze PostgreSQL s pravico ustvarjanja tabel. Bazo PostgreSQL si lahko namestimo na svojem racunalniku in v datoteki `auth.py` nastavimo ustrezne podatke za dostop."
   ]
  },
  {
   "cell_type": "code",
   "execution_count": null,
   "metadata": {},
   "outputs": [],
   "source": [
    "import psycopg\n",
    "from auth import auth"
   ]
  },
  {
   "cell_type": "markdown",
   "metadata": {},
   "source": [
    "Ustvarimo tabelo in jo napolnimo. Ker smo povezavo odprli s stavkom `with`, se bodo vse poizvedbe znotraj njega izvedle v eni transakciji - ob uspešnem izvajanju se bo ta potrdila, ob napaki pa preklicala. V vsakem primeru se bo povezava potem zaprla.\n",
    "\n",
    "Tudi kurzor lahko odpremo s stavkom `with`, da se po koncu izvajanja zapre."
   ]
  },
  {
   "cell_type": "code",
   "execution_count": null,
   "metadata": {},
   "outputs": [],
   "source": [
    "with psycopg.connect(**auth) as con:\n",
    "    with con.cursor() as cur:   # \"odzivnik\" za pregledovanje poizvedbe\n",
    "        cur.execute(\"DROP TABLE IF EXISTS Cars\")\n",
    "        cur.execute(\"CREATE TABLE Cars(Id INTEGER PRIMARY KEY, Name TEXT, Price INTEGER)\")\n",
    "        cur.execute(\"INSERT INTO Cars VALUES (1, 'Audi', 52642)\")\n",
    "        cur.execute(\"INSERT INTO Cars VALUES (2, 'Mercedes', 57127)\")\n",
    "        cur.execute(\"INSERT INTO Cars VALUES (3, 'Skoda', 9000)\")\n",
    "        cur.execute(\"INSERT INTO Cars VALUES (4, 'Volvo', 29000)\")\n",
    "        cur.execute(\"INSERT INTO Cars VALUES (5, 'Bentley', 350000)\")\n",
    "        cur.execute(\"INSERT INTO Cars VALUES (6, 'Citroen', 21000)\")\n",
    "        cur.execute(\"INSERT INTO Cars VALUES (7, 'Hummer', 41400)\")\n",
    "        cur.execute(\"INSERT INTO Cars VALUES (8, 'Volkswagen', 21600)\")"
   ]
  },
  {
   "cell_type": "markdown",
   "metadata": {},
   "source": [
    "Povezavo si lahko tudi shranimo in večkrat uporabimo. Parameter `autocommit=True` pri vzpostavljanju povezave določa, naj se vsaka poizvedba, ki je eksplicitno ne vključimo v transakcijo, takoj potrdi."
   ]
  },
  {
   "cell_type": "code",
   "execution_count": null,
   "metadata": {},
   "outputs": [],
   "source": [
    "con = psycopg.connect(**auth, autocommit=True)"
   ]
  },
  {
   "cell_type": "markdown",
   "metadata": {},
   "source": [
    "Primer: Katere vrstice so v tabeli?"
   ]
  },
  {
   "cell_type": "code",
   "execution_count": null,
   "metadata": {},
   "outputs": [],
   "source": [
    "cur1 = con.cursor()\n",
    "cur1.execute(\"SELECT * from Cars\")\n",
    "print(cur1.fetchall())"
   ]
  },
  {
   "cell_type": "markdown",
   "metadata": {},
   "source": [
    "Ko kurzor enkrat vrne podatke, se \"izčrpa\"."
   ]
  },
  {
   "cell_type": "code",
   "execution_count": null,
   "metadata": {},
   "outputs": [],
   "source": [
    "cur1.fetchall()"
   ]
  },
  {
   "cell_type": "markdown",
   "metadata": {},
   "source": [
    "Z `with con.transaction()` naredimo transakcijo - ob uspešnem koncu se potrdi, sicer bi se preklicala."
   ]
  },
  {
   "cell_type": "code",
   "execution_count": null,
   "metadata": {},
   "outputs": [],
   "source": [
    "with con.transaction():\n",
    "    cur1.execute(\"INSERT INTO Cars VALUES (9, 'Hyundai', 19200)\")\n",
    "    cur1.execute(\"INSERT INTO Cars VALUES (9, 'Ferrari', 192000)\")"
   ]
  },
  {
   "cell_type": "code",
   "execution_count": null,
   "metadata": {},
   "outputs": [],
   "source": [
    "with con.transaction():\n",
    "    cur1.execute(\"INSERT INTO Cars VALUES (10, 'Ferrari', 192000)\")\n",
    "    cur1.execute(\"INSERT INTO Cars VALUES (11, 'Lamborghini', 400000)\")"
   ]
  },
  {
   "cell_type": "markdown",
   "metadata": {},
   "source": [
    "Transakcije lahko potrjujemo in preklicujemo tudi sami z metodama `con.commit()` oziroma `con.rollback()`."
   ]
  },
  {
   "cell_type": "code",
   "execution_count": null,
   "metadata": {},
   "outputs": [],
   "source": [
    "con2 = psycopg.connect(**auth) # uporabimo novo povezavo brez autocommit"
   ]
  },
  {
   "cell_type": "code",
   "execution_count": null,
   "metadata": {},
   "outputs": [],
   "source": [
    "with con2.cursor() as cur2:\n",
    "    cur2.execute(\"INSERT INTO Cars VALUES (9, 'Hyundai', 19200)\")"
   ]
  },
  {
   "cell_type": "code",
   "execution_count": null,
   "metadata": {},
   "outputs": [],
   "source": [
    "with con2.cursor() as cur2:\n",
    "    cur2.execute(\"SELECT * from Cars\")\n",
    "    print(cur2.fetchall())"
   ]
  },
  {
   "cell_type": "code",
   "execution_count": null,
   "metadata": {},
   "outputs": [],
   "source": [
    "con2.rollback()"
   ]
  },
  {
   "cell_type": "code",
   "execution_count": null,
   "metadata": {},
   "outputs": [],
   "source": [
    "con2.commit()"
   ]
  },
  {
   "cell_type": "markdown",
   "metadata": {},
   "source": [
    "Primer: Poizvedba z iteracijo po 'odzivniku'."
   ]
  },
  {
   "cell_type": "code",
   "execution_count": null,
   "metadata": {},
   "outputs": [],
   "source": [
    "with con.cursor() as cur:\n",
    "    cur.execute(\"SELECT * from Cars\")\n",
    "    for podatek in cur:\n",
    "        print(podatek)"
   ]
  },
  {
   "cell_type": "markdown",
   "metadata": {},
   "source": [
    "Primer interaktivne poizvedbe,  uporaba niza `%s`."
   ]
  },
  {
   "cell_type": "code",
   "execution_count": null,
   "metadata": {},
   "outputs": [],
   "source": [
    "with con.cursor() as cur:\n",
    "    kaj = input(\"Cena katerega vozila te zanima:\")\n",
    "    cur.execute(\"SELECT Name, Price FROM Cars WHERE Name LIKE %s\", (kaj,))\n",
    "    print(cur.fetchall())"
   ]
  },
  {
   "cell_type": "markdown",
   "metadata": {},
   "source": [
    "Primer interaktivne poizvedbe, uporaba `%(ključ)s`, preverjanje rezultata."
   ]
  },
  {
   "cell_type": "code",
   "execution_count": null,
   "metadata": {},
   "outputs": [],
   "source": [
    "with con.cursor() as cur:\n",
    "    kaj = input(\"Katero vozilo te zanima:\").strip()\n",
    "    cur.execute(\"SELECT Price FROM Cars WHERE Name LIKE %(ime)s\", {\"ime\": kaj})\n",
    "    rez = cur.fetchone()\n",
    "    if rez is None:\n",
    "        print(\"Ni takega vozila ({0}).\".format(kaj))\n",
    "    else:\n",
    "        print(\"Cena vozila {0} je {1}.\".format(kaj, rez[0]))"
   ]
  },
  {
   "cell_type": "markdown",
   "metadata": {},
   "source": [
    "Primer: večkratno vstavljanje."
   ]
  },
  {
   "cell_type": "code",
   "execution_count": null,
   "metadata": {},
   "outputs": [],
   "source": [
    "cars = [\n",
    "    (12, 'Audi2', 52643),\n",
    "    (13, 'MercedesX', 57642),\n",
    "    (14, 'Škoda', 9000),\n",
    "    (15, 'Volvek', 29000),\n",
    "    (16, 'Bentley7', 350000),\n",
    "    (17, 'HummerU', 41400),\n",
    "    (18, 'VolkswagenPassat', 21600)\n",
    "]\n",
    "print(\"Vstavljamo: \", cars)\n",
    "with con.cursor() as cur:\n",
    "    cur.executemany(\"INSERT INTO Cars VALUES (%s, %s, %s)\", cars)\n",
    "    cur.execute(\"SELECT * from Cars\")\n",
    "    print(\"V tabeli imamo:\")\n",
    "    print(cur.fetchall())"
   ]
  },
  {
   "cell_type": "markdown",
   "metadata": {},
   "source": [
    "Ko povezav in kurzorjev več ne potrebujemo, jih zapremo."
   ]
  },
  {
   "cell_type": "code",
   "execution_count": null,
   "metadata": {},
   "outputs": [],
   "source": [
    "cur1.close()\n",
    "con.close()\n",
    "con2.close()"
   ]
  }
 ],
 "metadata": {
  "kernelspec": {
   "display_name": "Python 3 (ipykernel)",
   "language": "python",
   "name": "python3"
  },
  "language_info": {
   "codemirror_mode": {
    "name": "ipython",
    "version": 3
   },
   "file_extension": ".py",
   "mimetype": "text/x-python",
   "name": "python",
   "nbconvert_exporter": "python",
   "pygments_lexer": "ipython3",
   "version": "3.12.3"
  }
 },
 "nbformat": 4,
 "nbformat_minor": 2
}
