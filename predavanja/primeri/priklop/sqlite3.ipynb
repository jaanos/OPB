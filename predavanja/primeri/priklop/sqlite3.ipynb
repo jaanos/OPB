{
 "cells": [
  {
   "cell_type": "markdown",
   "metadata": {},
   "source": [
    "# Uporaba SQLite v Pythonu"
   ]
  },
  {
   "cell_type": "markdown",
   "metadata": {},
   "source": [
    "Za priklop na bazo SQLite v Pythonu uporabimo vgrajeni modul `sqlite3`."
   ]
  },
  {
   "cell_type": "code",
   "execution_count": 1,
   "metadata": {},
   "outputs": [],
   "source": [
    "import sqlite3\n",
    "\n",
    "# testna baza\n",
    "baza = \"primer.db\""
   ]
  },
  {
   "cell_type": "markdown",
   "metadata": {},
   "source": [
    "Ustvarimo tabelo in jo napolnimo."
   ]
  },
  {
   "cell_type": "code",
   "execution_count": 2,
   "metadata": {},
   "outputs": [],
   "source": [
    "with sqlite3.connect(baza) as con:\n",
    "    cur = con.cursor()   # \"odzivnik\" za pregledovanje poizvedbe\n",
    "    cur.execute(\"DROP TABLE IF EXISTS Cars\")\n",
    "    cur.execute(\"CREATE TABLE Cars(Id INTEGER PRIMARY KEY, Name TEXT, Price INTEGER)\")\n",
    "    cur.execute(\"INSERT INTO Cars VALUES (1, 'Audi', 52642)\")\n",
    "    cur.execute(\"INSERT INTO Cars VALUES (2, 'Mercedes', 57127)\")\n",
    "    cur.execute(\"INSERT INTO Cars VALUES (3, 'Skoda', 9000)\")\n",
    "    cur.execute(\"INSERT INTO Cars VALUES (4, 'Volvo', 29000)\")\n",
    "    cur.execute(\"INSERT INTO Cars VALUES (5, 'Bentley', 350000)\")\n",
    "    cur.execute(\"INSERT INTO Cars VALUES (6, 'Citroen', 21000)\")\n",
    "    cur.execute(\"INSERT INTO Cars VALUES (7, 'Hummer', 41400)\")\n",
    "    cur.execute(\"INSERT INTO Cars VALUES (8, 'Volkswagen', 21600)\")"
   ]
  },
  {
   "cell_type": "markdown",
   "metadata": {},
   "source": [
    "Povezavo si lahko tudi shranimo in večkrat uporabimo."
   ]
  },
  {
   "cell_type": "code",
   "execution_count": 3,
   "metadata": {},
   "outputs": [],
   "source": [
    "con = sqlite3.connect(baza)"
   ]
  },
  {
   "cell_type": "markdown",
   "metadata": {},
   "source": [
    "Primer: Katere tabele so v bazi?"
   ]
  },
  {
   "cell_type": "code",
   "execution_count": 4,
   "metadata": {},
   "outputs": [
    {
     "name": "stdout",
     "output_type": "stream",
     "text": [
      "[('Cars',)]\n"
     ]
    }
   ],
   "source": [
    "with con:\n",
    "    cur = con.cursor()\n",
    "    res = cur.execute(\"SELECT name FROM sqlite_master WHERE type = 'table'\")\n",
    "    print(res.fetchall())"
   ]
  },
  {
   "cell_type": "markdown",
   "metadata": {},
   "source": [
    "Primer: Katere vrstice so v tabeli?"
   ]
  },
  {
   "cell_type": "code",
   "execution_count": 12,
   "metadata": {},
   "outputs": [
    {
     "name": "stdout",
     "output_type": "stream",
     "text": [
      "[(1, 'Audi', 52642), (2, 'Mercedes', 57127), (3, 'Skoda', 9000), (4, 'Volvo', 29000), (5, 'Bentley', 350000), (6, 'Citroen', 21000), (7, 'Hummer', 41400), (8, 'Volkswagen', 21600)]\n"
     ]
    }
   ],
   "source": [
    "with con:\n",
    "    cur = con.cursor()\n",
    "    cur.execute(\"SELECT * from Cars\")\n",
    "    print(cur.fetchall())"
   ]
  },
  {
   "cell_type": "markdown",
   "metadata": {},
   "source": [
    "Ko kurzor enkrat vrne podatke, se \"izčrpa\"."
   ]
  },
  {
   "cell_type": "code",
   "execution_count": 6,
   "metadata": {},
   "outputs": [
    {
     "data": {
      "text/plain": [
       "[]"
      ]
     },
     "execution_count": 6,
     "metadata": {},
     "output_type": "execute_result"
    }
   ],
   "source": [
    "cur.fetchall()"
   ]
  },
  {
   "cell_type": "markdown",
   "metadata": {},
   "source": [
    "Z `with` smo naredili transakcijo - ob uspešnem koncu se je potrdila, sicer bi se preklicala."
   ]
  },
  {
   "cell_type": "code",
   "execution_count": 7,
   "metadata": {},
   "outputs": [
    {
     "ename": "IntegrityError",
     "evalue": "UNIQUE constraint failed: Cars.Id",
     "output_type": "error",
     "traceback": [
      "\u001b[0;31m---------------------------------------------------------------------------\u001b[0m",
      "\u001b[0;31mIntegrityError\u001b[0m                            Traceback (most recent call last)",
      "\u001b[0;32m<ipython-input-7-a7cdc120e5e9>\u001b[0m in \u001b[0;36m<module>\u001b[0;34m\u001b[0m\n\u001b[1;32m      1\u001b[0m \u001b[0;32mwith\u001b[0m \u001b[0mcon\u001b[0m\u001b[0;34m:\u001b[0m\u001b[0;34m\u001b[0m\u001b[0;34m\u001b[0m\u001b[0m\n\u001b[1;32m      2\u001b[0m     \u001b[0mcur\u001b[0m\u001b[0;34m.\u001b[0m\u001b[0mexecute\u001b[0m\u001b[0;34m(\u001b[0m\u001b[0;34m\"INSERT INTO Cars VALUES(9, 'Hyundai', 19200)\"\u001b[0m\u001b[0;34m)\u001b[0m\u001b[0;34m\u001b[0m\u001b[0;34m\u001b[0m\u001b[0m\n\u001b[0;32m----> 3\u001b[0;31m     \u001b[0mcur\u001b[0m\u001b[0;34m.\u001b[0m\u001b[0mexecute\u001b[0m\u001b[0;34m(\u001b[0m\u001b[0;34m\"INSERT INTO Cars VALUES(9, 'Ferrari', 192000)\"\u001b[0m\u001b[0;34m)\u001b[0m\u001b[0;34m\u001b[0m\u001b[0;34m\u001b[0m\u001b[0m\n\u001b[0m",
      "\u001b[0;31mIntegrityError\u001b[0m: UNIQUE constraint failed: Cars.Id"
     ]
    }
   ],
   "source": [
    "with con:\n",
    "    cur.execute(\"INSERT INTO Cars VALUES (9, 'Hyundai', 19200)\")\n",
    "    cur.execute(\"INSERT INTO Cars VALUES (9, 'Ferrari', 192000)\")"
   ]
  },
  {
   "cell_type": "markdown",
   "metadata": {},
   "source": [
    "Transakcije lahko potrjujemo in preklicujemo tudi sami."
   ]
  },
  {
   "cell_type": "code",
   "execution_count": 13,
   "metadata": {},
   "outputs": [
    {
     "data": {
      "text/plain": [
       "<sqlite3.Cursor at 0x7f356c052960>"
      ]
     },
     "execution_count": 13,
     "metadata": {},
     "output_type": "execute_result"
    }
   ],
   "source": [
    "cur.execute(\"INSERT INTO Cars VALUES (9, 'Hyundai', 19200)\")"
   ]
  },
  {
   "cell_type": "code",
   "execution_count": 16,
   "metadata": {},
   "outputs": [
    {
     "name": "stdout",
     "output_type": "stream",
     "text": [
      "[(1, 'Audi', 52642), (2, 'Mercedes', 57127), (3, 'Skoda', 9000), (4, 'Volvo', 29000), (5, 'Bentley', 350000), (6, 'Citroen', 21000), (7, 'Hummer', 41400), (8, 'Volkswagen', 21600), (9, 'Hyundai', 19200)]\n"
     ]
    }
   ],
   "source": [
    "with sqlite3.connect(baza) as con2: # uporabimo novo povezavo\n",
    "    cur2 = con2.cursor()\n",
    "    cur2.execute(\"SELECT * from Cars\")\n",
    "    print(cur2.fetchall())"
   ]
  },
  {
   "cell_type": "code",
   "execution_count": 11,
   "metadata": {},
   "outputs": [],
   "source": [
    "con.rollback()"
   ]
  },
  {
   "cell_type": "code",
   "execution_count": 15,
   "metadata": {},
   "outputs": [],
   "source": [
    "con.commit()"
   ]
  },
  {
   "cell_type": "markdown",
   "metadata": {},
   "source": [
    "Primer: Poizvedba z iteracijo po 'odzivniku'."
   ]
  },
  {
   "cell_type": "code",
   "execution_count": 18,
   "metadata": {},
   "outputs": [
    {
     "name": "stdout",
     "output_type": "stream",
     "text": [
      "Prvi: (1, 'Audi', 52642)\n",
      "(2, 'Mercedes', 57127)\n",
      "(3, 'Skoda', 9000)\n",
      "(4, 'Volvo', 29000)\n",
      "(5, 'Bentley', 350000)\n",
      "[(6, 'Citroen', 21000), (7, 'Hummer', 41400), (8, 'Volkswagen', 21600), (9, 'Hyundai', 19200)]\n"
     ]
    }
   ],
   "source": [
    "with con:\n",
    "    cur = con.cursor()\n",
    "    cur.execute(\"SELECT * from Cars\")\n",
    "    prvi = cur.fetchone()\n",
    "    print(\"Prvi:\", prvi)\n",
    "    for podatek in cur:\n",
    "        print(podatek)\n",
    "        if podatek[0] == 5:\n",
    "            break\n",
    "    print(cur.fetchall())"
   ]
  },
  {
   "cell_type": "markdown",
   "metadata": {},
   "source": [
    "Primer interaktivne poizvedbe,  uporaba znaka `?`."
   ]
  },
  {
   "cell_type": "code",
   "execution_count": 21,
   "metadata": {},
   "outputs": [
    {
     "name": "stdout",
     "output_type": "stream",
     "text": [
      "Cena katerega vozila te zanima:V%\n",
      "[('Volvo', 29000), ('Volkswagen', 21600)]\n"
     ]
    }
   ],
   "source": [
    "with con:\n",
    "    cur = con.cursor()\n",
    "    kaj = input(\"Cena katerega vozila te zanima:\")\n",
    "    cur.execute(\"SELECT Name, Price FROM Cars WHERE Name LIKE ?\", (kaj,))\n",
    "    print(cur.fetchall())"
   ]
  },
  {
   "cell_type": "markdown",
   "metadata": {},
   "source": [
    "Primer interaktivne poizvedbe, uporaba `:ključ`, preverjanje rezultata."
   ]
  },
  {
   "cell_type": "code",
   "execution_count": 24,
   "metadata": {},
   "outputs": [
    {
     "name": "stdout",
     "output_type": "stream",
     "text": [
      "Katero vozilo te zanima:Volvo\n",
      "Cena vozila Volvo je 29000.\n"
     ]
    }
   ],
   "source": [
    "with con:\n",
    "    cur = con.cursor()\n",
    "    kaj = input(\"Katero vozilo te zanima:\").strip()\n",
    "    cur.execute(\"SELECT Price FROM Cars WHERE Name LIKE :ime\", {\"ime\": kaj})\n",
    "    rez = cur.fetchone()\n",
    "    if rez is None:\n",
    "        print(\"Ni takega vozila ({0}).\".format(kaj))\n",
    "    else:\n",
    "        print(\"Cena vozila {0} je {1}.\".format(kaj, rez[0]))"
   ]
  },
  {
   "cell_type": "markdown",
   "metadata": {},
   "source": [
    "Primer: večkratno vstavljanje."
   ]
  },
  {
   "cell_type": "code",
   "execution_count": 25,
   "metadata": {},
   "outputs": [
    {
     "name": "stdout",
     "output_type": "stream",
     "text": [
      "Vstavljamo:  [(10, 'Audi2', 52643), (11, 'MercedesX', 57642), (12, 'Škoda', 9000), (13, 'Volvek', 29000), (14, 'Bentley7', 350000), (15, 'HummerU', 41400), (16, 'VolkswagenPassat', 21600)]\n",
      "V tabeli imamo:\n",
      "[(1, 'Audi', 52642), (2, 'Mercedes', 57127), (3, 'Skoda', 9000), (4, 'Volvo', 29000), (5, 'Bentley', 350000), (6, 'Citroen', 21000), (7, 'Hummer', 41400), (8, 'Volkswagen', 21600), (9, 'Hyundai', 19200), (10, 'Audi2', 52643), (11, 'MercedesX', 57642), (12, 'Škoda', 9000), (13, 'Volvek', 29000), (14, 'Bentley7', 350000), (15, 'HummerU', 41400), (16, 'VolkswagenPassat', 21600)]\n"
     ]
    }
   ],
   "source": [
    "cars = [\n",
    "    (10, 'Audi2', 52643),\n",
    "    (11, 'MercedesX', 57642),\n",
    "    (12, 'Škoda', 9000),\n",
    "    (13, 'Volvek', 29000),\n",
    "    (14, 'Bentley7', 350000),\n",
    "    (15, 'HummerU', 41400),\n",
    "    (16, 'VolkswagenPassat', 21600)\n",
    "]\n",
    "print(\"Vstavljamo: \", cars)\n",
    "with con:\n",
    "    cur = con.cursor()\n",
    "    cur.executemany(\"INSERT INTO Cars VALUES (?, ?, ?)\", cars)\n",
    "    cur.execute(\"SELECT * from Cars\")\n",
    "    print(\"V tabeli imamo:\")\n",
    "    print(cur.fetchall())"
   ]
  },
  {
   "cell_type": "markdown",
   "metadata": {},
   "source": [
    "Uporaba generatorja vrstic `sqlite3.Row`. Namesto $n$-terk za vrstice vračamo objekte."
   ]
  },
  {
   "cell_type": "code",
   "execution_count": 31,
   "metadata": {},
   "outputs": [
    {
     "ename": "ProgrammingError",
     "evalue": "Cannot operate on a closed database.",
     "output_type": "error",
     "traceback": [
      "\u001b[0;31m---------------------------------------------------------------------------\u001b[0m",
      "\u001b[0;31mProgrammingError\u001b[0m                          Traceback (most recent call last)",
      "\u001b[0;32m<ipython-input-31-69a84bd74079>\u001b[0m in \u001b[0;36m<module>\u001b[0;34m\u001b[0m\n\u001b[1;32m      2\u001b[0m     \u001b[0mcon\u001b[0m\u001b[0;34m.\u001b[0m\u001b[0mrow_factory\u001b[0m \u001b[0;34m=\u001b[0m \u001b[0msqlite3\u001b[0m\u001b[0;34m.\u001b[0m\u001b[0mRow\u001b[0m\u001b[0;34m\u001b[0m\u001b[0;34m\u001b[0m\u001b[0m\n\u001b[0;32m----> 3\u001b[0;31m     \u001b[0mcur\u001b[0m \u001b[0;34m=\u001b[0m \u001b[0mcon\u001b[0m\u001b[0;34m.\u001b[0m\u001b[0mcursor\u001b[0m\u001b[0;34m(\u001b[0m\u001b[0;34m)\u001b[0m\u001b[0;34m\u001b[0m\u001b[0;34m\u001b[0m\u001b[0m\n\u001b[0m\u001b[1;32m      4\u001b[0m     \u001b[0mcur\u001b[0m\u001b[0;34m.\u001b[0m\u001b[0mexecute\u001b[0m\u001b[0;34m(\u001b[0m\u001b[0;34m\"SELECT * from Cars\"\u001b[0m\u001b[0;34m)\u001b[0m\u001b[0;34m\u001b[0m\u001b[0;34m\u001b[0m\u001b[0m\n",
      "\u001b[0;31mProgrammingError\u001b[0m: Cannot operate on a closed database.",
      "\nDuring handling of the above exception, another exception occurred:\n",
      "\u001b[0;31mProgrammingError\u001b[0m                          Traceback (most recent call last)",
      "\u001b[0;32m<ipython-input-31-69a84bd74079>\u001b[0m in \u001b[0;36m<module>\u001b[0;34m\u001b[0m\n\u001b[1;32m      4\u001b[0m     \u001b[0mcur\u001b[0m\u001b[0;34m.\u001b[0m\u001b[0mexecute\u001b[0m\u001b[0;34m(\u001b[0m\u001b[0;34m\"SELECT * from Cars\"\u001b[0m\u001b[0;34m)\u001b[0m\u001b[0;34m\u001b[0m\u001b[0;34m\u001b[0m\u001b[0m\n\u001b[1;32m      5\u001b[0m     \u001b[0;32mfor\u001b[0m \u001b[0mvrstica\u001b[0m \u001b[0;32min\u001b[0m \u001b[0mcur\u001b[0m\u001b[0;34m:\u001b[0m\u001b[0;34m\u001b[0m\u001b[0;34m\u001b[0m\u001b[0m\n\u001b[0;32m----> 6\u001b[0;31m         \u001b[0mprint\u001b[0m\u001b[0;34m(\u001b[0m\u001b[0mvrstica\u001b[0m\u001b[0;34m[\u001b[0m\u001b[0;34m\"Name\"\u001b[0m\u001b[0;34m]\u001b[0m\u001b[0;34m)\u001b[0m\u001b[0;34m\u001b[0m\u001b[0;34m\u001b[0m\u001b[0m\n\u001b[0m",
      "\u001b[0;31mProgrammingError\u001b[0m: Cannot operate on a closed database."
     ]
    }
   ],
   "source": [
    "with con:\n",
    "    con.row_factory = sqlite3.Row\n",
    "    cur = con.cursor()\n",
    "    cur.execute(\"SELECT * from Cars\")\n",
    "    for vrstica in cur:\n",
    "        print(vrstica[\"Name\"])"
   ]
  },
  {
   "cell_type": "markdown",
   "metadata": {},
   "source": [
    "Ko povezave več ne potrebujemo, jo zapremo."
   ]
  },
  {
   "cell_type": "code",
   "execution_count": 30,
   "metadata": {},
   "outputs": [],
   "source": [
    "con.close()"
   ]
  }
 ],
 "metadata": {
  "kernelspec": {
   "display_name": "Python 3",
   "language": "python",
   "name": "python3"
  },
  "language_info": {
   "codemirror_mode": {
    "name": "ipython",
    "version": 3
   },
   "file_extension": ".py",
   "mimetype": "text/x-python",
   "name": "python",
   "nbconvert_exporter": "python",
   "pygments_lexer": "ipython3",
   "version": "3.8.10"
  }
 },
 "nbformat": 4,
 "nbformat_minor": 2
}
