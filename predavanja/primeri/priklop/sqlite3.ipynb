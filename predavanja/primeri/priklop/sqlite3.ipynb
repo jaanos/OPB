{
 "cells": [
  {
   "cell_type": "markdown",
   "metadata": {},
   "source": [
    "# Uporaba SQLite v Pythonu"
   ]
  },
  {
   "cell_type": "markdown",
   "metadata": {},
   "source": [
    "Za priklop na bazo SQLite v Pythonu uporabimo vgrajeni modul `sqlite3`."
   ]
  },
  {
   "cell_type": "code",
   "execution_count": null,
   "metadata": {},
   "outputs": [],
   "source": [
    "import sqlite3\n",
    "\n",
    "# testna baza\n",
    "baza = \"primer.db\""
   ]
  },
  {
   "cell_type": "markdown",
   "metadata": {},
   "source": [
    "Ustvarimo tabelo in jo napolnimo."
   ]
  },
  {
   "cell_type": "code",
   "execution_count": null,
   "metadata": {},
   "outputs": [],
   "source": [
    "with sqlite3.connect(baza) as con:\n",
    "    cur = con.cursor()   # \"odzivnik\" za pregledovanje poizvedbe\n",
    "    cur.execute(\"DROP TABLE IF EXISTS Cars\")\n",
    "    cur.execute(\"CREATE TABLE Cars(Id INTEGER PRIMARY KEY, Name TEXT, Price INTEGER)\")\n",
    "    cur.execute(\"INSERT INTO Cars VALUES (1, 'Audi', 52642)\")\n",
    "    cur.execute(\"INSERT INTO Cars VALUES (2, 'Mercedes', 57127)\")\n",
    "    cur.execute(\"INSERT INTO Cars VALUES (3, 'Skoda', 9000)\")\n",
    "    cur.execute(\"INSERT INTO Cars VALUES (4, 'Volvo', 29000)\")\n",
    "    cur.execute(\"INSERT INTO Cars VALUES (5, 'Bentley', 350000)\")\n",
    "    cur.execute(\"INSERT INTO Cars VALUES (6, 'Citroen', 21000)\")\n",
    "    cur.execute(\"INSERT INTO Cars VALUES (7, 'Hummer', 41400)\")\n",
    "    cur.execute(\"INSERT INTO Cars VALUES (8, 'Volkswagen', 21600)\")"
   ]
  },
  {
   "cell_type": "markdown",
   "metadata": {},
   "source": [
    "Povezavo si lahko tudi shranimo in večkrat uporabimo."
   ]
  },
  {
   "cell_type": "code",
   "execution_count": null,
   "metadata": {},
   "outputs": [],
   "source": [
    "con = sqlite3.connect(baza)"
   ]
  },
  {
   "cell_type": "markdown",
   "metadata": {},
   "source": [
    "Primer: Katere tabele so v bazi?"
   ]
  },
  {
   "cell_type": "code",
   "execution_count": null,
   "metadata": {},
   "outputs": [],
   "source": [
    "with con:\n",
    "    cur = con.cursor()\n",
    "    cur.execute(\"SELECT name FROM sqlite_master WHERE type = 'table'\")\n",
    "    print(cur.fetchall())"
   ]
  },
  {
   "cell_type": "markdown",
   "metadata": {},
   "source": [
    "Primer: Katere vrstice so v tabeli?"
   ]
  },
  {
   "cell_type": "code",
   "execution_count": null,
   "metadata": {},
   "outputs": [],
   "source": [
    "with con:\n",
    "    cur = con.cursor()\n",
    "    cur.execute(\"SELECT * from Cars\")\n",
    "    print(cur.fetchall())"
   ]
  },
  {
   "cell_type": "code",
   "execution_count": null,
   "metadata": {},
   "outputs": [],
   "source": [
    "print(cur.fetchone())"
   ]
  },
  {
   "cell_type": "markdown",
   "metadata": {},
   "source": [
    "Ko kurzor enkrat vrne podatke, se \"izčrpa\"."
   ]
  },
  {
   "cell_type": "code",
   "execution_count": null,
   "metadata": {},
   "outputs": [],
   "source": [
    "cur.fetchall()"
   ]
  },
  {
   "cell_type": "markdown",
   "metadata": {},
   "source": [
    "Z `with` smo naredili transakcijo - ob uspešnem koncu se je potrdila, sicer bi se preklicala."
   ]
  },
  {
   "cell_type": "code",
   "execution_count": null,
   "metadata": {},
   "outputs": [],
   "source": [
    "with con:\n",
    "    cur.execute(\"INSERT INTO Cars VALUES (9, 'Hyundai', 19200)\")\n",
    "    cur.execute(\"INSERT INTO Cars VALUES (9, 'Ferrari', 192000)\")"
   ]
  },
  {
   "cell_type": "markdown",
   "metadata": {},
   "source": [
    "Transakcije lahko potrjujemo in preklicujemo tudi sami."
   ]
  },
  {
   "cell_type": "code",
   "execution_count": null,
   "metadata": {},
   "outputs": [],
   "source": [
    "cur.execute(\"INSERT INTO Cars VALUES (10, 'Hyundai', 19200)\")"
   ]
  },
  {
   "cell_type": "code",
   "execution_count": null,
   "metadata": {},
   "outputs": [],
   "source": [
    "with sqlite3.connect(baza) as con2: # uporabimo novo povezavo\n",
    "    cur2 = con2.cursor()\n",
    "    cur2.execute(\"SELECT * from Cars\")\n",
    "    print(cur2.fetchall())"
   ]
  },
  {
   "cell_type": "code",
   "execution_count": null,
   "metadata": {},
   "outputs": [],
   "source": [
    "con.rollback()"
   ]
  },
  {
   "cell_type": "code",
   "execution_count": null,
   "metadata": {},
   "outputs": [],
   "source": [
    "con.commit()"
   ]
  },
  {
   "cell_type": "markdown",
   "metadata": {},
   "source": [
    "Primer: Poizvedba z iteracijo po 'odzivniku'."
   ]
  },
  {
   "cell_type": "code",
   "execution_count": null,
   "metadata": {},
   "outputs": [],
   "source": [
    "with con:\n",
    "    cur = con.cursor()\n",
    "    cur.execute(\"SELECT * from Cars\")\n",
    "    prvi = cur.fetchone()\n",
    "    print(\"Prvi:\", prvi)\n",
    "    for podatek in cur:\n",
    "        print(podatek)\n",
    "        if podatek[0] == 5:\n",
    "            break\n",
    "    print(cur.fetchall())"
   ]
  },
  {
   "cell_type": "markdown",
   "metadata": {},
   "source": [
    "Primer interaktivne poizvedbe,  uporaba znaka `?`."
   ]
  },
  {
   "cell_type": "code",
   "execution_count": null,
   "metadata": {},
   "outputs": [],
   "source": [
    "with con:\n",
    "    cur = con.cursor()\n",
    "    kaj = input(\"Cena katerega vozila te zanima:\")\n",
    "    cur.execute(\"SELECT Name, Price FROM Cars WHERE Name LIKE ?\", (kaj,))\n",
    "    print(cur.fetchall())"
   ]
  },
  {
   "cell_type": "markdown",
   "metadata": {},
   "source": [
    "Primer interaktivne poizvedbe, uporaba `:ključ`, preverjanje rezultata."
   ]
  },
  {
   "cell_type": "code",
   "execution_count": null,
   "metadata": {},
   "outputs": [],
   "source": [
    "with con:\n",
    "    cur = con.cursor()\n",
    "    kaj = input(\"Katero vozilo te zanima:\").strip()\n",
    "    cur.execute(\"SELECT Price FROM Cars WHERE Name LIKE :ime\", {\"ime\": kaj})\n",
    "    rez = cur.fetchone()\n",
    "    if rez is None:\n",
    "        print(\"Ni takega vozila ({0}).\".format(kaj))\n",
    "    else:\n",
    "        print(\"Cena vozila {0} je {1}.\".format(kaj, rez[0]))"
   ]
  },
  {
   "cell_type": "markdown",
   "metadata": {},
   "source": [
    "Primer: večkratno vstavljanje."
   ]
  },
  {
   "cell_type": "code",
   "execution_count": null,
   "metadata": {},
   "outputs": [],
   "source": [
    "cars = [\n",
    "    (17, 'Audi2', 52643),\n",
    "    (11, 'MercedesX', 57642),\n",
    "    (12, 'Škoda', 9000),\n",
    "    (13, 'Volvek', 29000),\n",
    "    (14, 'Bentley7', 350000),\n",
    "    (15, 'HummerU', 41400),\n",
    "    (16, 'VolkswagenPassat', 21600)\n",
    "]\n",
    "print(\"Vstavljamo: \", cars)\n",
    "with con:\n",
    "    cur = con.cursor()\n",
    "    cur.executemany(\"INSERT INTO Cars VALUES (?, ?, ?)\", cars)\n",
    "    cur.execute(\"SELECT * from Cars\")\n",
    "    print(\"V tabeli imamo:\")\n",
    "    print(cur.fetchall())"
   ]
  },
  {
   "cell_type": "markdown",
   "metadata": {},
   "source": [
    "Uporaba generatorja vrstic `sqlite3.Row`. Namesto $n$-terk za vrstice vračamo objekte."
   ]
  },
  {
   "cell_type": "code",
   "execution_count": null,
   "metadata": {},
   "outputs": [],
   "source": [
    "with con:\n",
    "    con.row_factory = sqlite3.Row\n",
    "    cur = con.cursor()\n",
    "    cur.execute(\"SELECT * from Cars\")\n",
    "    for vrstica in cur:\n",
    "        print(vrstica[\"Name\"])"
   ]
  },
  {
   "cell_type": "markdown",
   "metadata": {},
   "source": [
    "Ko povezave več ne potrebujemo, jo zapremo."
   ]
  },
  {
   "cell_type": "code",
   "execution_count": null,
   "metadata": {},
   "outputs": [],
   "source": [
    "con.close()"
   ]
  }
 ],
 "metadata": {
  "kernelspec": {
   "display_name": "Python 3 (ipykernel)",
   "language": "python",
   "name": "python3"
  },
  "language_info": {
   "codemirror_mode": {
    "name": "ipython",
    "version": 3
   },
   "file_extension": ".py",
   "mimetype": "text/x-python",
   "name": "python",
   "nbconvert_exporter": "python",
   "pygments_lexer": "ipython3",
   "version": "3.12.3"
  }
 },
 "nbformat": 4,
 "nbformat_minor": 2
}
