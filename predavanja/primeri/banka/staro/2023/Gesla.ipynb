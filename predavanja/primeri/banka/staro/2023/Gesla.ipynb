{
 "cells": [
  {
   "cell_type": "markdown",
   "metadata": {},
   "source": [
    "# Banka - prijava\n",
    "\n",
    "Na bazi za našo aplikacijo bomo uporabnikom omogočili prijavo. V ta namen jim bo potrebno dodati uporabniška imena in gesla."
   ]
  },
  {
   "cell_type": "code",
   "execution_count": 1,
   "metadata": {},
   "outputs": [
    {
     "name": "stdout",
     "output_type": "stream",
     "text": [
      "PRAGMA foreign_keys = ON;\n"
     ]
    }
   ],
   "source": [
    "from bottleext import baza\n",
    "import bcrypt\n",
    "\n",
    "cur = baza.cursor()"
   ]
  },
  {
   "cell_type": "code",
   "execution_count": 2,
   "metadata": {},
   "outputs": [
    {
     "name": "stdout",
     "output_type": "stream",
     "text": [
      "ALTER TABLE oseba ADD COLUMN up_ime TEXT\n",
      "ALTER TABLE oseba ADD COLUMN geslo BLOB\n",
      "ALTER TABLE oseba ADD COLUMN admin INTEGER NOT NULL DEFAULT 0\n"
     ]
    },
    {
     "data": {
      "text/plain": [
       "<sqlite3.Cursor at 0x7f089c2c07a0>"
      ]
     },
     "execution_count": 2,
     "metadata": {},
     "output_type": "execute_result"
    }
   ],
   "source": [
    "cur.execute(\"ALTER TABLE oseba ADD COLUMN up_ime TEXT\") # SQLite ne dovoli dodajanja stolpca z določilom UNIQUE\n",
    "cur.execute(\"ALTER TABLE oseba ADD COLUMN geslo BLOB\")\n",
    "cur.execute(\"ALTER TABLE oseba ADD COLUMN admin INTEGER NOT NULL DEFAULT 0\")"
   ]
  },
  {
   "cell_type": "markdown",
   "metadata": {},
   "source": [
    "Za ustvarjanje in preverjanje gesel bomo uporabili knjižnico `bcrypt`. Napišimo funkcijo, ki pretvori dano geslo v obliko, kakršno bomo hranili v bazi - ta sestoji iz naključno generirane *soli* in *zgostitve* (*hash*) te soli skupaj z danim geslom. Z drugo funkcijo bomo potem preverjali veljavnost gesla."
   ]
  },
  {
   "cell_type": "code",
   "execution_count": 3,
   "metadata": {},
   "outputs": [],
   "source": [
    "def nastavi_geslo(geslo):\n",
    "    geslo = geslo.encode(\"utf-8\")\n",
    "    sol = bcrypt.gensalt()\n",
    "    return bcrypt.hashpw(geslo, sol)\n",
    "\n",
    "def preveri_geslo(geslo, zgostitev):\n",
    "    geslo = geslo.encode(\"utf-8\")\n",
    "    return bcrypt.checkpw(geslo, zgostitev)"
   ]
  },
  {
   "cell_type": "markdown",
   "metadata": {},
   "source": [
    "Poskusimo z vzorčnim geslom."
   ]
  },
  {
   "cell_type": "code",
   "execution_count": 7,
   "metadata": {},
   "outputs": [
    {
     "data": {
      "text/plain": [
       "b'$2b$12$iiTM1CP9I4SZ7gtE8z.nqO.tFGO9CAipgt9Tq5WuOrY4eECUhXK02'"
      ]
     },
     "execution_count": 7,
     "metadata": {},
     "output_type": "execute_result"
    }
   ],
   "source": [
    "(zgostitev := nastavi_geslo('geslo'))"
   ]
  },
  {
   "cell_type": "code",
   "execution_count": 8,
   "metadata": {},
   "outputs": [
    {
     "data": {
      "text/plain": [
       "True"
      ]
     },
     "execution_count": 8,
     "metadata": {},
     "output_type": "execute_result"
    }
   ],
   "source": [
    "preveri_geslo('geslo', zgostitev)"
   ]
  },
  {
   "cell_type": "code",
   "execution_count": 9,
   "metadata": {},
   "outputs": [
    {
     "data": {
      "text/plain": [
       "False"
      ]
     },
     "execution_count": 9,
     "metadata": {},
     "output_type": "execute_result"
    }
   ],
   "source": [
    "preveri_geslo('nekajdrugega', zgostitev)"
   ]
  },
  {
   "cell_type": "markdown",
   "metadata": {},
   "source": [
    "Funkcijo `nastavi_geslo` bomo registrirali na povezavi na podatkovno bazo, da jo bomo lahko uporabili v poizvedbah."
   ]
  },
  {
   "cell_type": "code",
   "execution_count": 10,
   "metadata": {},
   "outputs": [],
   "source": [
    "baza.create_function('nastavi_geslo', 1, nastavi_geslo)"
   ]
  },
  {
   "cell_type": "markdown",
   "metadata": {},
   "source": [
    "Preizkusimo našo funkcijo."
   ]
  },
  {
   "cell_type": "code",
   "execution_count": 12,
   "metadata": {},
   "outputs": [
    {
     "name": "stdout",
     "output_type": "stream",
     "text": [
      "SELECT nastavi_geslo('geslo')\n"
     ]
    },
    {
     "data": {
      "text/plain": [
       "(b'$2b$12$ZkbZER.mb3KU1b3KdKX0IOgRxinCp2YSOoHKxVhxjppKmRL4gEaCW',)"
      ]
     },
     "execution_count": 12,
     "metadata": {},
     "output_type": "execute_result"
    }
   ],
   "source": [
    "cur.execute(\"SELECT nastavi_geslo(?)\", (\"geslo\", ))\n",
    "cur.fetchone()"
   ]
  },
  {
   "cell_type": "markdown",
   "metadata": {},
   "source": [
    "Sedaj lahko uporabnikom nastavimo uporabniška imena in gesla."
   ]
  },
  {
   "cell_type": "code",
   "execution_count": 13,
   "metadata": {},
   "outputs": [
    {
     "name": "stdout",
     "output_type": "stream",
     "text": [
      "BEGIN \n",
      "\n",
      "        UPDATE oseba SET\n",
      "            up_ime = lower(substr(ime, 1, 1) || priimek || substr(emso, -1, 1)),\n",
      "            geslo = nastavi_geslo(ime)\n",
      "    \n",
      "COMMIT\n"
     ]
    }
   ],
   "source": [
    "with baza:\n",
    "    cur.execute(\"\"\"\n",
    "        UPDATE oseba SET\n",
    "            up_ime = lower(substr(ime, 1, 1) || priimek || substr(emso, -1, 1)),\n",
    "            geslo = nastavi_geslo(ime)\n",
    "    \"\"\")"
   ]
  },
  {
   "cell_type": "markdown",
   "metadata": {},
   "source": [
    "Preverimo enega od nastavljenih gesel."
   ]
  },
  {
   "cell_type": "code",
   "execution_count": null,
   "metadata": {},
   "outputs": [],
   "source": [
    "cur.execute(\"SELECT ime, geslo FROM oseba WHERE emso = 1\")\n",
    "geslo, zgostitev = cur.fetchone()\n",
    "preveri_geslo(geslo, zgostitev)"
   ]
  }
 ],
 "metadata": {
  "kernelspec": {
   "display_name": "Python 3",
   "language": "python",
   "name": "python3"
  },
  "language_info": {
   "codemirror_mode": {
    "name": "ipython",
    "version": 3
   },
   "file_extension": ".py",
   "mimetype": "text/x-python",
   "name": "python",
   "nbconvert_exporter": "python",
   "pygments_lexer": "ipython3",
   "version": "3.8.10"
  }
 },
 "nbformat": 4,
 "nbformat_minor": 4
}
