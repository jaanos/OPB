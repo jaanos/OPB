{
 "cells": [
  {
   "cell_type": "markdown",
   "metadata": {},
   "source": [
    "# Podatkovni model za aplikacijo\n",
    "\n",
    "Za potrebe spletne aplikacije smo pripravili ogrodje podatkovnega modela, ki skrbi za komunikacijo z relacijsko podatkovno bazo in predstavitev entitet v bazi z objekti. Takemu pristopu pravimo *objektno-relacijsko preslikovanje* (*ORM*, angl. *object-relational mapping*)."
   ]
  },
  {
   "cell_type": "code",
   "execution_count": null,
   "metadata": {},
   "outputs": [],
   "source": [
    "from model import Kraj, Oseba, Racun, Transakcija, vzpostavi_povezavo, ustvari_bazo, uvozi_podatke\n",
    "conn = vzpostavi_povezavo()"
   ]
  },
  {
   "cell_type": "markdown",
   "metadata": {},
   "source": [
    "Pripravimo si prvi objekt in ga shranimo v bazo."
   ]
  },
  {
   "cell_type": "code",
   "execution_count": null,
   "metadata": {},
   "outputs": [],
   "source": [
    "lj = Kraj.ustvari(1000, 'Ljubljana')\n",
    "lj.shrani()"
   ]
  },
  {
   "cell_type": "markdown",
   "metadata": {},
   "source": [
    "Izpišimo seznam krajev iz baze."
   ]
  },
  {
   "cell_type": "code",
   "execution_count": null,
   "metadata": {},
   "outputs": [],
   "source": [
    "list(Kraj.seznam())"
   ]
  },
  {
   "cell_type": "markdown",
   "metadata": {},
   "source": [
    "Pripravimo še ostale objekte. Pri shranjevanju v bazo se bodo shranili tudi povezani objekti."
   ]
  },
  {
   "cell_type": "code",
   "execution_count": null,
   "metadata": {},
   "outputs": [],
   "source": [
    "mb = Kraj.ustvari(2000, 'Maribor')\n",
    "\n",
    "janez = Oseba.ustvari('Janez', 'Novak', '1234567890123', 'Tržaška cesta', lj)\n",
    "micka = Oseba.ustvari('Micka', 'Kovač', '9876543210987', 'Ljubljanska cesta', mb)\n",
    "peter = Oseba.ustvari('Peter', 'Klepec', '1029384756601', 'Klepčeva ulica', 1000)\n",
    "\n",
    "racun_j1 = Racun.ustvari(oseba_id=janez)\n",
    "racun_m = Racun.ustvari(oseba_id=micka)\n",
    "racun_j2 = Racun.ustvari(oseba_id=janez)\n",
    "racun_p = Racun.ustvari(oseba_id=peter)\n",
    "\n",
    "with conn.transaction():\n",
    "    Transakcija.ustvari(racun_id=racun_j1, znesek=100, opis='odprtje računa').shrani()\n",
    "    Transakcija.ustvari(racun_id=racun_m, znesek=500, opis='prihranki').shrani()\n",
    "    Transakcija.ustvari(racun_id=racun_j2, znesek=10, opis='varčevanje').shrani()\n",
    "    Transakcija.ustvari(racun_id=racun_j1, znesek=-15, opis='dvig').shrani()\n",
    "    Transakcija.ustvari(racun_id=racun_p, znesek=1000).shrani()"
   ]
  },
  {
   "cell_type": "code",
   "execution_count": null,
   "metadata": {},
   "outputs": [],
   "source": [
    "list(Oseba.seznam())"
   ]
  },
  {
   "cell_type": "code",
   "execution_count": null,
   "metadata": {},
   "outputs": [],
   "source": [
    "list(Transakcija.seznam())"
   ]
  },
  {
   "cell_type": "markdown",
   "metadata": {},
   "source": [
    "Do vrednostih posameznih atributov v objektih dostopamo z istoimenskimi polji. Če gre za referenco, bomo tako dobili ustrezen objekt."
   ]
  },
  {
   "cell_type": "code",
   "execution_count": null,
   "metadata": {},
   "outputs": [],
   "source": [
    "peter.naslov"
   ]
  },
  {
   "cell_type": "code",
   "execution_count": null,
   "metadata": {},
   "outputs": [],
   "source": [
    "peter.kraj_id"
   ]
  },
  {
   "cell_type": "markdown",
   "metadata": {},
   "source": [
    "Z indeksiranjem dobimo vrednosti iz baze - tj., v primeru referenc dobimo ustrezno vrednost ključa."
   ]
  },
  {
   "cell_type": "code",
   "execution_count": null,
   "metadata": {},
   "outputs": [],
   "source": [
    "tr = Transakcija.z_id(5)\n",
    "tr['cas']"
   ]
  },
  {
   "cell_type": "code",
   "execution_count": null,
   "metadata": {},
   "outputs": [],
   "source": [
    "tr['racun_id']"
   ]
  },
  {
   "cell_type": "markdown",
   "metadata": {},
   "source": [
    "Vrednosti lahko tudi spreminjamo ter nato spremembe shranimo v bazo."
   ]
  },
  {
   "cell_type": "code",
   "execution_count": null,
   "metadata": {},
   "outputs": [],
   "source": [
    "tr.opis = 'dobitek na lotu'\n",
    "tr.shrani()"
   ]
  },
  {
   "cell_type": "code",
   "execution_count": null,
   "metadata": {},
   "outputs": [],
   "source": [
    "for tid, znesek, racun, cas, opis in Transakcija.seznam():\n",
    "    print(f\"{tid}: znesek {znesek} na računu {racun} osebe {Racun.z_id(racun).oseba_id}: {opis} ({cas})\")"
   ]
  },
  {
   "cell_type": "markdown",
   "metadata": {},
   "source": [
    "**Pozor**: tak način ni učinkovit, saj se pri vsaki transakciji izvedeta še poizvedbi za račun in za osebo. Če bomo v aplikaciji želeli tak izpis, bomo implementirali ustrezno metodo, ki bo iz baze pridobila želene podatke s čim manjšim številom poizvedb."
   ]
  },
  {
   "cell_type": "markdown",
   "metadata": {},
   "source": [
    "## Uvoz podatkov iz datotek\n",
    "\n",
    "Pobrišimo tabele in jih napolnimo s podatki, ki smo jih generirali s spletnim orodjem [Mockaroo](https://www.mockaroo.com)."
   ]
  },
  {
   "cell_type": "code",
   "execution_count": null,
   "metadata": {},
   "outputs": [],
   "source": [
    "ustvari_bazo(izbrisi=True)\n",
    "uvozi_podatke()"
   ]
  },
  {
   "cell_type": "markdown",
   "metadata": {},
   "source": [
    "Oglejmo si nekaj uvoženih podatkov."
   ]
  },
  {
   "cell_type": "code",
   "execution_count": null,
   "metadata": {},
   "outputs": [],
   "source": [
    "for _, oseba in zip(range(10), Oseba.seznam()):\n",
    "    print(oseba)"
   ]
  }
 ],
 "metadata": {
  "kernelspec": {
   "display_name": "Python 3",
   "language": "python",
   "name": "python3"
  },
  "language_info": {
   "codemirror_mode": {
    "name": "ipython",
    "version": 3
   },
   "file_extension": ".py",
   "mimetype": "text/x-python",
   "name": "python",
   "nbconvert_exporter": "python",
   "pygments_lexer": "ipython3",
   "version": "3.8.10"
  }
 },
 "nbformat": 4,
 "nbformat_minor": 2
}
