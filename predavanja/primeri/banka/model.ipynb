{
 "cells": [
  {
   "cell_type": "markdown",
   "metadata": {},
   "source": [
    "# Podatkovni model za aplikacijo\n",
    "\n",
    "Za potrebe spletne aplikacije smo pripravili ogrodje podatkovnega modela, ki skrbi za komunikacijo z relacijsko podatkovno bazo in predstavitev entitet v bazi z objekti. Takemu pristopu pravimo *objektno-relacijsko preslikovanje* (*ORM*, angl. *object-relational mapping*)."
   ]
  },
  {
   "cell_type": "code",
   "execution_count": 1,
   "metadata": {},
   "outputs": [],
   "source": [
    "from model import Kraj, Oseba, Racun, Transakcija, vzpostavi_povezavo, ustvari_bazo, uvozi_podatke\n",
    "conn = vzpostavi_povezavo()"
   ]
  },
  {
   "cell_type": "markdown",
   "metadata": {},
   "source": [
    "Pripravimo si prvi objekt in ga shranimo v bazo."
   ]
  },
  {
   "cell_type": "code",
   "execution_count": 2,
   "metadata": {},
   "outputs": [],
   "source": [
    "lj = Kraj.ustvari(1000, 'Ljubljana')\n",
    "lj.shrani()"
   ]
  },
  {
   "cell_type": "markdown",
   "metadata": {},
   "source": [
    "Izpišimo seznam krajev iz baze."
   ]
  },
  {
   "cell_type": "code",
   "execution_count": 3,
   "metadata": {},
   "outputs": [
    {
     "data": {
      "text/plain": [
       "[<Kraj: 1000 Ljubljana>]"
      ]
     },
     "execution_count": 3,
     "metadata": {},
     "output_type": "execute_result"
    }
   ],
   "source": [
    "list(Kraj.seznam())"
   ]
  },
  {
   "cell_type": "markdown",
   "metadata": {},
   "source": [
    "Pripravimo še ostale objekte. Pri shranjevanju v bazo se bodo shranili tudi povezani objekti."
   ]
  },
  {
   "cell_type": "code",
   "execution_count": 4,
   "metadata": {},
   "outputs": [],
   "source": [
    "mb = Kraj.ustvari(2000, 'Maribor')\n",
    "\n",
    "janez = Oseba.ustvari('Janez', 'Novak', '1234567890123', 'Tržaška cesta', lj)\n",
    "micka = Oseba.ustvari('Micka', 'Kovač', '9876543210987', 'Ljubljanska cesta', mb)\n",
    "peter = Oseba.ustvari('Peter', 'Klepec', '1029384756601', 'Klepčeva ulica', 1000)\n",
    "\n",
    "racun_j1 = Racun.ustvari(oseba_id=janez)\n",
    "racun_m = Racun.ustvari(oseba_id=micka)\n",
    "racun_j2 = Racun.ustvari(oseba_id=janez)\n",
    "racun_p = Racun.ustvari(oseba_id=peter)\n",
    "\n",
    "with conn.transaction():\n",
    "    Transakcija.ustvari(racun_id=racun_j1, znesek=100, opis='odprtje računa').shrani()\n",
    "    Transakcija.ustvari(racun_id=racun_m, znesek=500, opis='prihranki').shrani()\n",
    "    Transakcija.ustvari(racun_id=racun_j2, znesek=10, opis='varčevanje').shrani()\n",
    "    Transakcija.ustvari(racun_id=racun_j1, znesek=-15, opis='dvig').shrani()\n",
    "    Transakcija.ustvari(racun_id=racun_p, znesek=1000).shrani()"
   ]
  },
  {
   "cell_type": "code",
   "execution_count": 5,
   "metadata": {},
   "outputs": [
    {
     "data": {
      "text/plain": [
       "[<Oseba: Micka Kovač (9876543210987)>,\n",
       " <Oseba: Janez Novak (1234567890123)>,\n",
       " <Oseba: Peter Klepec (1029384756601)>]"
      ]
     },
     "execution_count": 5,
     "metadata": {},
     "output_type": "execute_result"
    }
   ],
   "source": [
    "list(Oseba.seznam())"
   ]
  },
  {
   "cell_type": "code",
   "execution_count": 6,
   "metadata": {},
   "outputs": [
    {
     "data": {
      "text/plain": [
       "[<Transakcija: Transakcija 1 na računu 1 z zneskom 100>,\n",
       " <Transakcija: Transakcija 2 na računu 2 z zneskom 500>,\n",
       " <Transakcija: Transakcija 3 na računu 3 z zneskom 10>,\n",
       " <Transakcija: Transakcija 4 na računu 1 z zneskom -15>,\n",
       " <Transakcija: Transakcija 5 na računu 4 z zneskom 1000>]"
      ]
     },
     "execution_count": 6,
     "metadata": {},
     "output_type": "execute_result"
    }
   ],
   "source": [
    "list(Transakcija.seznam())"
   ]
  },
  {
   "cell_type": "markdown",
   "metadata": {},
   "source": [
    "Do vrednostih posameznih atributov v objektih dostopamo z istoimenskimi polji. Če gre za referenco, bomo tako dobili ustrezen objekt."
   ]
  },
  {
   "cell_type": "code",
   "execution_count": 7,
   "metadata": {},
   "outputs": [
    {
     "data": {
      "text/plain": [
       "'Klepčeva ulica'"
      ]
     },
     "execution_count": 7,
     "metadata": {},
     "output_type": "execute_result"
    }
   ],
   "source": [
    "peter.naslov"
   ]
  },
  {
   "cell_type": "code",
   "execution_count": 8,
   "metadata": {},
   "outputs": [
    {
     "data": {
      "text/plain": [
       "<Kraj: 1000 Ljubljana>"
      ]
     },
     "execution_count": 8,
     "metadata": {},
     "output_type": "execute_result"
    }
   ],
   "source": [
    "peter.kraj_id"
   ]
  },
  {
   "cell_type": "markdown",
   "metadata": {},
   "source": [
    "Z indeksiranjem dobimo vrednosti iz baze - tj., v primeru referenc dobimo ustrezno vrednost ključa."
   ]
  },
  {
   "cell_type": "code",
   "execution_count": 9,
   "metadata": {},
   "outputs": [
    {
     "data": {
      "text/plain": [
       "datetime.datetime(2024, 3, 25, 16, 40, 11, 304365)"
      ]
     },
     "execution_count": 9,
     "metadata": {},
     "output_type": "execute_result"
    }
   ],
   "source": [
    "tr = Transakcija.z_id(5)\n",
    "tr['cas']"
   ]
  },
  {
   "cell_type": "code",
   "execution_count": 10,
   "metadata": {},
   "outputs": [
    {
     "data": {
      "text/plain": [
       "4"
      ]
     },
     "execution_count": 10,
     "metadata": {},
     "output_type": "execute_result"
    }
   ],
   "source": [
    "tr['racun_id']"
   ]
  },
  {
   "cell_type": "markdown",
   "metadata": {},
   "source": [
    "Vrednosti lahko tudi spreminjamo ter nato spremembe shranimo v bazo."
   ]
  },
  {
   "cell_type": "code",
   "execution_count": 11,
   "metadata": {},
   "outputs": [],
   "source": [
    "tr.opis = 'dobitek na lotu'\n",
    "tr.shrani()"
   ]
  },
  {
   "cell_type": "code",
   "execution_count": 12,
   "metadata": {},
   "outputs": [
    {
     "name": "stdout",
     "output_type": "stream",
     "text": [
      "1: znesek 100 na računu 1 osebe Janez Novak (1234567890123): odprtje računa (2024-03-25 16:40:11.304365)\n",
      "2: znesek 500 na računu 2 osebe Micka Kovač (9876543210987): prihranki (2024-03-25 16:40:11.304365)\n",
      "3: znesek 10 na računu 3 osebe Janez Novak (1234567890123): varčevanje (2024-03-25 16:40:11.304365)\n",
      "4: znesek -15 na računu 1 osebe Janez Novak (1234567890123): dvig (2024-03-25 16:40:11.304365)\n",
      "5: znesek 1000 na računu 4 osebe Peter Klepec (1029384756601): dobitek na lotu (2024-03-25 16:40:11.304365)\n"
     ]
    }
   ],
   "source": [
    "for tid, znesek, racun, cas, opis in Transakcija.seznam():\n",
    "    print(f\"{tid}: znesek {znesek} na računu {racun} osebe {Racun.z_id(racun).oseba_id}: {opis} ({cas})\")"
   ]
  },
  {
   "cell_type": "markdown",
   "metadata": {},
   "source": [
    "**Pozor**: tak način ni učinkovit, saj se pri vsaki transakciji izvedeta še poizvedbi za račun in za osebo. Če bomo v aplikaciji želeli tak izpis, bomo implementirali ustrezno metodo, ki bo iz baze pridobila želene podatke s čim manjšim številom poizvedb."
   ]
  },
  {
   "cell_type": "markdown",
   "metadata": {},
   "source": [
    "## Uvoz podatkov iz datotek\n",
    "\n",
    "Pobrišimo tabele in jih napolnimo s podatki, ki smo jih generirali s spletnim orodjem [Mockaroo](https://www.mockaroo.com)."
   ]
  },
  {
   "cell_type": "code",
   "execution_count": 13,
   "metadata": {},
   "outputs": [],
   "source": [
    "ustvari_bazo(izbrisi=True)\n",
    "uvozi_podatke()"
   ]
  },
  {
   "cell_type": "markdown",
   "metadata": {},
   "source": [
    "Oglejmo si nekaj uvoženih podatkov."
   ]
  },
  {
   "cell_type": "code",
   "execution_count": 14,
   "metadata": {},
   "outputs": [
    {
     "name": "stdout",
     "output_type": "stream",
     "text": [
      "Karoly Yoseloff (1)\n",
      "Silvia Cammell (2)\n",
      "Gabie Grigoryov (3)\n",
      "Bari Kemmis (4)\n",
      "Harlan Jendas (5)\n",
      "Angelica Kinnerley (6)\n",
      "Sheila-kathryn MacCostye (7)\n",
      "Lynnea Perle (8)\n",
      "Dalston Grieves (9)\n",
      "Phineas Nolan (10)\n"
     ]
    }
   ],
   "source": [
    "for _, oseba in zip(range(10), Oseba.seznam()):\n",
    "    print(oseba)"
   ]
  }
 ],
 "metadata": {
  "kernelspec": {
   "display_name": "Python 3",
   "language": "python",
   "name": "python3"
  },
  "language_info": {
   "codemirror_mode": {
    "name": "ipython",
    "version": 3
   },
   "file_extension": ".py",
   "mimetype": "text/x-python",
   "name": "python",
   "nbconvert_exporter": "python",
   "pygments_lexer": "ipython3",
   "version": "3.8.10"
  }
 },
 "nbformat": 4,
 "nbformat_minor": 2
}
